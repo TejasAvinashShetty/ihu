{
 "cells": [
  {
   "cell_type": "code",
   "execution_count": null,
   "id": "representative-funeral",
   "metadata": {},
   "outputs": [],
   "source": [
    "# default_exp unitary"
   ]
  },
  {
   "cell_type": "code",
   "execution_count": null,
   "id": "sonic-transcription",
   "metadata": {},
   "outputs": [
    {
     "name": "stdout",
     "output_type": "stream",
     "text": [
      "The autoreload extension is already loaded. To reload it, use:\n",
      "  %reload_ext autoreload\n"
     ]
    }
   ],
   "source": [
    "#hide\n",
    "%load_ext autoreload\n",
    "%autoreload 2\n",
    "from nbdev.export import notebook2script"
   ]
  },
  {
   "cell_type": "markdown",
   "id": "billion-chest",
   "metadata": {},
   "source": [
    "# unitary"
   ]
  },
  {
   "cell_type": "code",
   "execution_count": null,
   "id": "spoken-medicine",
   "metadata": {},
   "outputs": [],
   "source": [
    "#export\n",
    "from numpy.random import random_sample\n",
    "from numpy import array\n",
    "from numpy.testing import assert_allclose\n",
    "from qutip.random_objects import rand_unitary\n",
    "from qutip import Qobj"
   ]
  },
  {
   "cell_type": "markdown",
   "id": "corrected-undergraduate",
   "metadata": {},
   "source": [
    "Since we are short of time let us just make  thin wrappers around\n",
    "qutip for these issues."
   ]
  },
  {
   "cell_type": "code",
   "execution_count": null,
   "id": "hidden-senate",
   "metadata": {},
   "outputs": [],
   "source": [
    "#export\n",
    "def rand_unitary_ndarray(ndarray_shape):\n",
    "    r\"\"\"Make a random unitary ndarray of ndarray_shape\"\"\"\n",
    "    N = ndarray_shape[0]\n",
    "    try:\n",
    "        assert N == ndarray_shape[1]\n",
    "    except AssertionError as  e:\n",
    "        print(\"Please pass a shape that is square\")\n",
    "    unitary_qutip = rand_unitary(N)\n",
    "    unitary_ndarray = unitary_qutip.full()\n",
    "    return unitary_ndarray"
   ]
  },
  {
   "cell_type": "code",
   "execution_count": null,
   "id": "criminal-injury",
   "metadata": {},
   "outputs": [
    {
     "data": {
      "text/plain": [
       "array([[ 0.86427001-0.03016381j, -0.4464092 -0.22988329j],\n",
       "       [ 0.49357313+0.09226627j,  0.66408047+0.55395815j]])"
      ]
     },
     "execution_count": null,
     "metadata": {},
     "output_type": "execute_result"
    }
   ],
   "source": [
    "rand_unitary_ndarray((2, 2))"
   ]
  },
  {
   "cell_type": "code",
   "execution_count": null,
   "id": "norwegian-fireplace",
   "metadata": {},
   "outputs": [],
   "source": [
    "#export\n",
    "def test_unitary_ndarray(ndarray):\n",
    "    r\"\"\"Returns true if array is unitaryitian\"\"\"\n",
    "    tunitary_qutip = Qobj(ndarray)\n",
    "    unitary_test_result = tunitary_qutip.isunitary\n",
    "    return unitary_test_result\n"
   ]
  },
  {
   "cell_type": "code",
   "execution_count": null,
   "id": "prostate-exercise",
   "metadata": {},
   "outputs": [
    {
     "data": {
      "text/plain": [
       "True"
      ]
     },
     "execution_count": null,
     "metadata": {},
     "output_type": "execute_result"
    }
   ],
   "source": [
    "a = rand_unitary_ndarray((9, 9))\n",
    "test_unitary_ndarray(a)"
   ]
  },
  {
   "cell_type": "code",
   "execution_count": null,
   "id": "dedicated-columbia",
   "metadata": {},
   "outputs": [],
   "source": []
  },
  {
   "cell_type": "code",
   "execution_count": null,
   "id": "acoustic-valve",
   "metadata": {},
   "outputs": [
    {
     "name": "stdout",
     "output_type": "stream",
     "text": [
      "Converted 00_core.ipynb.\n",
      "Converted 01_reshape.ipynb.\n",
      "Converted 02_herm.ipynb.\n",
      "Converted 03_unitary.ipynb.\n",
      "Converted 04_tests.ipynb.\n",
      "Converted index.ipynb.\n"
     ]
    }
   ],
   "source": [
    "#hide\n",
    "notebook2script()"
   ]
  },
  {
   "cell_type": "code",
   "execution_count": null,
   "id": "wooden-reception",
   "metadata": {},
   "outputs": [],
   "source": []
  }
 ],
 "metadata": {
  "kernelspec": {
   "display_name": "Python 3",
   "language": "python",
   "name": "python3"
  }
 },
 "nbformat": 4,
 "nbformat_minor": 5
}
