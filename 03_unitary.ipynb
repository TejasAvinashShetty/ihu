{
 "cells": [
  {
   "cell_type": "code",
   "execution_count": null,
   "id": "representative-funeral",
   "metadata": {},
   "outputs": [],
   "source": [
    "# default_exp unitary"
   ]
  },
  {
   "cell_type": "code",
   "execution_count": null,
   "id": "sonic-transcription",
   "metadata": {},
   "outputs": [],
   "source": [
    "#hide\n",
    "%load_ext autoreload\n",
    "%autoreload 2\n",
    "from nbdev.export import notebook2script"
   ]
  },
  {
   "cell_type": "code",
   "execution_count": null,
   "id": "spoken-medicine",
   "metadata": {},
   "outputs": [],
   "source": [
    "#export\n",
    "from numpy.random import random_sample\n",
    "from numpy import array\n",
    "from numpy.testing import assert_allclose"
   ]
  },
  {
   "cell_type": "markdown",
   "id": "corrected-undergraduate",
   "metadata": {},
   "source": [
    " This is a template repo. Use it to make notebooks for this project.\n",
    " \n",
    " Steps:\n",
    " - Change the name of this notebook to some xx_yyyy \n",
    " - Add the same  name i.e 'yyyy' in the default_exp cell at the top\n",
    " - Edit the 3rd cell to add your imports\n",
    " - Run all cells once\n",
    " - Delete this cell"
   ]
  },
  {
   "cell_type": "code",
   "execution_count": null,
   "id": "hidden-senate",
   "metadata": {},
   "outputs": [],
   "source": []
  },
  {
   "cell_type": "code",
   "execution_count": null,
   "id": "amateur-mambo",
   "metadata": {},
   "outputs": [],
   "source": []
  },
  {
   "cell_type": "code",
   "execution_count": null,
   "id": "acoustic-valve",
   "metadata": {},
   "outputs": [
    {
     "name": "stdout",
     "output_type": "stream",
     "text": [
      "Converted 00_core.ipynb.\n",
      "Converted 01_reshape.ipynb.\n",
      "Converted 02_herm.ipynb.\n",
      "Converted 03_unitary.ipynb.\n",
      "Converted index.ipynb.\n"
     ]
    }
   ],
   "source": [
    "notebook2script()"
   ]
  }
 ],
 "metadata": {
  "kernelspec": {
   "display_name": "Python 3",
   "language": "python",
   "name": "python3"
  }
 },
 "nbformat": 4,
 "nbformat_minor": 5
}
