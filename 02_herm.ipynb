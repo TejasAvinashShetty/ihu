{
 "cells": [
  {
   "cell_type": "code",
   "execution_count": null,
   "id": "representative-funeral",
   "metadata": {},
   "outputs": [],
   "source": [
    "# default_exp herm"
   ]
  },
  {
   "cell_type": "code",
   "execution_count": null,
   "id": "sonic-transcription",
   "metadata": {},
   "outputs": [
    {
     "name": "stdout",
     "output_type": "stream",
     "text": [
      "The autoreload extension is already loaded. To reload it, use:\n",
      "  %reload_ext autoreload\n"
     ]
    }
   ],
   "source": [
    "#hide\n",
    "%load_ext autoreload\n",
    "%autoreload 2\n",
    "from nbdev.export import notebook2script"
   ]
  },
  {
   "cell_type": "markdown",
   "id": "agreed-matrix",
   "metadata": {},
   "source": [
    "# herm"
   ]
  },
  {
   "cell_type": "code",
   "execution_count": null,
   "id": "spoken-medicine",
   "metadata": {},
   "outputs": [],
   "source": [
    "#export\n",
    "from numpy.random import random_sample\n",
    "from numpy import array\n",
    "from numpy.testing import assert_allclose\n",
    "from qutip.random_objects import rand_herm\n",
    "from qutip import Qobj"
   ]
  },
  {
   "cell_type": "markdown",
   "id": "corrected-undergraduate",
   "metadata": {},
   "source": [
    "Since we are short of time let us just make  thin wrappers around\n",
    "qutip for these issues."
   ]
  },
  {
   "cell_type": "code",
   "execution_count": null,
   "id": "hidden-senate",
   "metadata": {},
   "outputs": [],
   "source": [
    "#export\n",
    "def rand_herm_ndarray(ndarray_shape):\n",
    "    r\"\"\"Make a random hermitian ndarray of ndarray_shape\"\"\"\n",
    "    N = ndarray_shape[0]\n",
    "    try:\n",
    "        assert N == ndarray_shape[1]\n",
    "    except AssertionError as  e:\n",
    "        print(\"Please pass a shape that is square\")\n",
    "    herm_qutip = rand_herm(N)\n",
    "    herm_ndarray = herm_qutip.full()\n",
    "    return herm_ndarray"
   ]
  },
  {
   "cell_type": "code",
   "execution_count": null,
   "id": "centered-crazy",
   "metadata": {},
   "outputs": [
    {
     "data": {
      "text/plain": [
       "array([[0.        +0.j        , 0.21128495-0.36823157j],\n",
       "       [0.21128495+0.36823157j, 0.197371  +0.j        ]])"
      ]
     },
     "execution_count": null,
     "metadata": {},
     "output_type": "execute_result"
    }
   ],
   "source": [
    "rand_herm_ndarray((2, 2))"
   ]
  },
  {
   "cell_type": "code",
   "execution_count": null,
   "id": "packed-belize",
   "metadata": {},
   "outputs": [],
   "source": [
    "#export\n",
    "def test_herm_ndarray(ndarray):\n",
    "    r\"\"\"Returns true if array is Hermitian\"\"\"\n",
    "    therm_qutip = Qobj(ndarray)\n",
    "    herm_test_result = therm_qutip.isherm\n",
    "    return herm_test_result\n"
   ]
  },
  {
   "cell_type": "code",
   "execution_count": null,
   "id": "informed-assist",
   "metadata": {},
   "outputs": [
    {
     "data": {
      "text/plain": [
       "True"
      ]
     },
     "execution_count": null,
     "metadata": {},
     "output_type": "execute_result"
    }
   ],
   "source": [
    "a = rand_herm_ndarray((9, 9))\n",
    "test_herm_ndarray(a)"
   ]
  },
  {
   "cell_type": "code",
   "execution_count": null,
   "id": "acoustic-valve",
   "metadata": {},
   "outputs": [
    {
     "name": "stdout",
     "output_type": "stream",
     "text": [
      "Converted 00_core.ipynb.\n",
      "Converted 01_reshape.ipynb.\n",
      "Converted 02_herm.ipynb.\n",
      "Converted 03_unitary.ipynb.\n",
      "Converted 04_tests.ipynb.\n",
      "Converted index.ipynb.\n"
     ]
    }
   ],
   "source": [
    "#hide\n",
    "notebook2script()"
   ]
  },
  {
   "cell_type": "code",
   "execution_count": null,
   "id": "black-reset",
   "metadata": {},
   "outputs": [],
   "source": []
  }
 ],
 "metadata": {
  "kernelspec": {
   "display_name": "Python 3",
   "language": "python",
   "name": "python3"
  }
 },
 "nbformat": 4,
 "nbformat_minor": 5
}
