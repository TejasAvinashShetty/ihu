{
 "cells": [
  {
   "cell_type": "code",
   "execution_count": null,
   "id": "urban-distribution",
   "metadata": {},
   "outputs": [],
   "source": [
    "# default_exp reshape"
   ]
  },
  {
   "cell_type": "code",
   "execution_count": null,
   "id": "coupled-carry",
   "metadata": {},
   "outputs": [],
   "source": [
    "#hide\n",
    "%load_ext autoreload\n",
    "%autoreload 2\n",
    "from nbdev.export import notebook2script"
   ]
  },
  {
   "cell_type": "code",
   "execution_count": null,
   "id": "alleged-qatar",
   "metadata": {},
   "outputs": [],
   "source": [
    "#export\n",
    "from numpy.random import random_sample\n",
    "from numpy import array\n",
    "from numpy.testing import assert_allclose"
   ]
  },
  {
   "cell_type": "code",
   "execution_count": null,
   "id": "institutional-effectiveness",
   "metadata": {},
   "outputs": [],
   "source": [
    "#export\n",
    "def complex_random_sample(shape_tuple):\n",
    "    ''' A complex analogue of the random_sample numpy function.\n",
    "    Inputs\n",
    "    shape_tuple : tuple\n",
    "                Tuple containing the dimensions of the final\n",
    "                complex array.\n",
    "\n",
    "    Outputs :\n",
    "    crs       : ndarray\n",
    "                the complex random array of the shape as specified\n",
    "                in the shape_tuple\n",
    "                complex random sample\n",
    "\n",
    "    '''\n",
    "    rrs = random_sample(shape_tuple)  # real part of complex random sample\n",
    "    irs = random_sample(shape_tuple)  # imaginary part\n",
    "    crs = rrs + 1j*irs  # complex random sample\n",
    "    return crs\n"
   ]
  },
  {
   "cell_type": "code",
   "execution_count": null,
   "id": "musical-rhythm",
   "metadata": {},
   "outputs": [],
   "source": [
    "a = complex_random_sample((9, 10))"
   ]
  },
  {
   "cell_type": "code",
   "execution_count": null,
   "id": "clean-highway",
   "metadata": {},
   "outputs": [
    {
     "data": {
      "text/plain": [
       "(9, 10)"
      ]
     },
     "execution_count": null,
     "metadata": {},
     "output_type": "execute_result"
    }
   ],
   "source": [
    "a.shape"
   ]
  },
  {
   "cell_type": "code",
   "execution_count": null,
   "id": "forward-baking",
   "metadata": {},
   "outputs": [
    {
     "data": {
      "text/plain": [
       "array([0.12001232+0.18717222j, 0.73797164+0.72996111j,\n",
       "       0.40967234+0.38392117j, 0.41469696+0.53503757j,\n",
       "       0.40858293+0.39113638j, 0.17414305+0.65524685j,\n",
       "       0.52127634+0.99995457j, 0.88389393+0.20882256j,\n",
       "       0.72970164+0.92695883j, 0.95033153+0.40339242j])"
      ]
     },
     "execution_count": null,
     "metadata": {},
     "output_type": "execute_result"
    }
   ],
   "source": [
    "a[2, :]"
   ]
  },
  {
   "cell_type": "code",
   "execution_count": null,
   "id": "entitled-invite",
   "metadata": {},
   "outputs": [
    {
     "data": {
      "text/plain": [
       "(10,)"
      ]
     },
     "execution_count": null,
     "metadata": {},
     "output_type": "execute_result"
    }
   ],
   "source": [
    "a[2, :].shape"
   ]
  },
  {
   "cell_type": "code",
   "execution_count": null,
   "id": "thick-handy",
   "metadata": {},
   "outputs": [
    {
     "data": {
      "text/plain": [
       "array([0.64381532+0.97821356j, 0.23010924+0.96248205j,\n",
       "       0.52127634+0.99995457j, 0.85985915+0.18968533j,\n",
       "       0.17440336+0.66023156j, 0.51561657+0.3061161j ,\n",
       "       0.89368451+0.04854751j, 0.40897513+0.62022259j,\n",
       "       0.54369186+0.71097692j])"
      ]
     },
     "execution_count": null,
     "metadata": {},
     "output_type": "execute_result"
    }
   ],
   "source": [
    "a[:, 6]"
   ]
  },
  {
   "cell_type": "code",
   "execution_count": null,
   "id": "concerned-mouse",
   "metadata": {},
   "outputs": [
    {
     "data": {
      "text/plain": [
       "(9,)"
      ]
     },
     "execution_count": null,
     "metadata": {},
     "output_type": "execute_result"
    }
   ],
   "source": [
    "a[:, 6].shape"
   ]
  },
  {
   "cell_type": "code",
   "execution_count": null,
   "id": "understanding-conjunction",
   "metadata": {},
   "outputs": [
    {
     "data": {
      "text/plain": [
       "array([[0.64381532+0.97821356j, 0.23010924+0.96248205j,\n",
       "        0.52127634+0.99995457j],\n",
       "       [0.85985915+0.18968533j, 0.17440336+0.66023156j,\n",
       "        0.51561657+0.3061161j ],\n",
       "       [0.89368451+0.04854751j, 0.40897513+0.62022259j,\n",
       "        0.54369186+0.71097692j]])"
      ]
     },
     "execution_count": null,
     "metadata": {},
     "output_type": "execute_result"
    }
   ],
   "source": [
    "a[:, 6].reshape(3, 3)"
   ]
  },
  {
   "cell_type": "code",
   "execution_count": null,
   "id": "daily-indianapolis",
   "metadata": {},
   "outputs": [
    {
     "data": {
      "text/plain": [
       "array([[0.64381532+0.97821356j, 0.23010924+0.96248205j,\n",
       "        0.52127634+0.99995457j],\n",
       "       [0.85985915+0.18968533j, 0.17440336+0.66023156j,\n",
       "        0.51561657+0.3061161j ],\n",
       "       [0.89368451+0.04854751j, 0.40897513+0.62022259j,\n",
       "        0.54369186+0.71097692j]])"
      ]
     },
     "execution_count": null,
     "metadata": {},
     "output_type": "execute_result"
    }
   ],
   "source": [
    "a.reshape(3, 3, a.shape[-1])[:, :, 6]"
   ]
  },
  {
   "cell_type": "code",
   "execution_count": null,
   "id": "civil-order",
   "metadata": {},
   "outputs": [],
   "source": [
    "assert_allclose(a.reshape(3, 3, a.shape[-1])[:, :, 6], a[:, 6].reshape(3, 3))"
   ]
  },
  {
   "cell_type": "markdown",
   "id": "coupled-stake",
   "metadata": {},
   "source": [
    "Try changing any of the 6 in the above line to 7"
   ]
  },
  {
   "cell_type": "code",
   "execution_count": null,
   "id": "legal-smell",
   "metadata": {},
   "outputs": [
    {
     "name": "stdout",
     "output_type": "stream",
     "text": [
      "Converted 00_core.ipynb.\n",
      "Converted 01_reshape.ipynb.\n",
      "Converted 02_herm.ipynb.\n",
      "Converted 03_unitary.ipynb.\n",
      "Converted index.ipynb.\n"
     ]
    }
   ],
   "source": [
    "notebook2script()"
   ]
  },
  {
   "cell_type": "code",
   "execution_count": null,
   "id": "interracial-cylinder",
   "metadata": {},
   "outputs": [],
   "source": []
  }
 ],
 "metadata": {
  "kernelspec": {
   "display_name": "Python 3",
   "language": "python",
   "name": "python3"
  }
 },
 "nbformat": 4,
 "nbformat_minor": 5
}
