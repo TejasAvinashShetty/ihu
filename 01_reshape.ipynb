{
 "cells": [
  {
   "cell_type": "code",
   "execution_count": null,
   "id": "minus-makeup",
   "metadata": {},
   "outputs": [],
   "source": [
    "# default_exp reshape"
   ]
  },
  {
   "cell_type": "code",
   "execution_count": null,
   "id": "frank-shirt",
   "metadata": {},
   "outputs": [],
   "source": [
    "#hide\n",
    "%load_ext autoreload\n",
    "%autoreload 2\n",
    "from nbdev.export import notebook2script"
   ]
  },
  {
   "cell_type": "code",
   "execution_count": null,
   "id": "banner-schema",
   "metadata": {},
   "outputs": [],
   "source": [
    "#hide\n",
    "from scipy.integrate import solve_ivp\n",
    "from numpy.random import random_sample\n",
    "from numpy import array\n",
    "from numpy.testing import assert_allclose"
   ]
  },
  {
   "cell_type": "code",
   "execution_count": null,
   "id": "knowing-spelling",
   "metadata": {},
   "outputs": [],
   "source": [
    "#export\n",
    "def complex_random_sample(shape_tuple):\n",
    "    ''' A complex analogue of the random_sample numpy function.\n",
    "    Inputs\n",
    "    shape_tuple : tuple\n",
    "                Tuple containing the dimensions of the final\n",
    "                complex array.\n",
    "\n",
    "    Outputs :\n",
    "    crs       : ndarray\n",
    "                the complex random array of the shape as specified\n",
    "                in the shape_tuple\n",
    "                complex random sample\n",
    "\n",
    "    '''\n",
    "    rrs = random_sample(shape_tuple)  # real part of complex random sample\n",
    "    irs = random_sample(shape_tuple)  # imaginary part\n",
    "    crs = rrs + 1j*irs  # complex random sample\n",
    "    return crs\n"
   ]
  },
  {
   "cell_type": "code",
   "execution_count": null,
   "id": "critical-shepherd",
   "metadata": {},
   "outputs": [],
   "source": [
    "a = complex_random_sample((9, 10))"
   ]
  },
  {
   "cell_type": "code",
   "execution_count": null,
   "id": "critical-grain",
   "metadata": {},
   "outputs": [
    {
     "data": {
      "text/plain": [
       "(9, 10)"
      ]
     },
     "execution_count": null,
     "metadata": {},
     "output_type": "execute_result"
    }
   ],
   "source": [
    "a.shape"
   ]
  },
  {
   "cell_type": "code",
   "execution_count": null,
   "id": "nuclear-whale",
   "metadata": {},
   "outputs": [
    {
     "data": {
      "text/plain": [
       "array([0.70393804+0.89814627j, 0.60620531+0.88361622j,\n",
       "       0.90601628+0.07186994j, 0.30088526+0.2958116j ,\n",
       "       0.3758658 +0.66441379j, 0.55585578+0.10737059j,\n",
       "       0.76129144+0.22981566j, 0.4912872 +0.47908056j,\n",
       "       0.08311407+0.59767308j, 0.20705155+0.41036503j])"
      ]
     },
     "execution_count": null,
     "metadata": {},
     "output_type": "execute_result"
    }
   ],
   "source": [
    "a[2, :]"
   ]
  },
  {
   "cell_type": "code",
   "execution_count": null,
   "id": "healthy-plane",
   "metadata": {},
   "outputs": [
    {
     "data": {
      "text/plain": [
       "(10,)"
      ]
     },
     "execution_count": null,
     "metadata": {},
     "output_type": "execute_result"
    }
   ],
   "source": [
    "a[2, :].shape"
   ]
  },
  {
   "cell_type": "code",
   "execution_count": null,
   "id": "convinced-catch",
   "metadata": {},
   "outputs": [
    {
     "data": {
      "text/plain": [
       "array([0.66546073+0.80646648j, 0.16916106+0.32326348j,\n",
       "       0.76129144+0.22981566j, 0.80455541+0.57326366j,\n",
       "       0.4253791 +0.53580768j, 0.76688648+0.84846439j,\n",
       "       0.21378559+0.41711028j, 0.02582714+0.90137674j,\n",
       "       0.12784993+0.01669655j])"
      ]
     },
     "execution_count": null,
     "metadata": {},
     "output_type": "execute_result"
    }
   ],
   "source": [
    "a[:, 6]"
   ]
  },
  {
   "cell_type": "code",
   "execution_count": null,
   "id": "smooth-hungary",
   "metadata": {},
   "outputs": [
    {
     "data": {
      "text/plain": [
       "(9,)"
      ]
     },
     "execution_count": null,
     "metadata": {},
     "output_type": "execute_result"
    }
   ],
   "source": [
    "a[:, 6].shape"
   ]
  },
  {
   "cell_type": "code",
   "execution_count": null,
   "id": "impossible-newsletter",
   "metadata": {},
   "outputs": [
    {
     "data": {
      "text/plain": [
       "array([[0.66546073+0.80646648j, 0.16916106+0.32326348j,\n",
       "        0.76129144+0.22981566j],\n",
       "       [0.80455541+0.57326366j, 0.4253791 +0.53580768j,\n",
       "        0.76688648+0.84846439j],\n",
       "       [0.21378559+0.41711028j, 0.02582714+0.90137674j,\n",
       "        0.12784993+0.01669655j]])"
      ]
     },
     "execution_count": null,
     "metadata": {},
     "output_type": "execute_result"
    }
   ],
   "source": [
    "a[:, 6].reshape(3, 3)"
   ]
  },
  {
   "cell_type": "code",
   "execution_count": null,
   "id": "impossible-tradition",
   "metadata": {},
   "outputs": [
    {
     "data": {
      "text/plain": [
       "array([[0.66546073+0.80646648j, 0.16916106+0.32326348j,\n",
       "        0.76129144+0.22981566j],\n",
       "       [0.80455541+0.57326366j, 0.4253791 +0.53580768j,\n",
       "        0.76688648+0.84846439j],\n",
       "       [0.21378559+0.41711028j, 0.02582714+0.90137674j,\n",
       "        0.12784993+0.01669655j]])"
      ]
     },
     "execution_count": null,
     "metadata": {},
     "output_type": "execute_result"
    }
   ],
   "source": [
    "a.reshape(3, 3, a.shape[-1])[:, :, 6]"
   ]
  },
  {
   "cell_type": "code",
   "execution_count": null,
   "id": "handed-compound",
   "metadata": {},
   "outputs": [],
   "source": [
    "assert_allclose(a[:, 6].reshape(3, 3), a.reshape(3, 3, a.shape[-1])[:, :, 6])"
   ]
  },
  {
   "cell_type": "markdown",
   "id": "smoking-worst",
   "metadata": {},
   "source": [
    "Try changing any of the 6 in the above line to 7"
   ]
  },
  {
   "cell_type": "code",
   "execution_count": null,
   "id": "novel-determination",
   "metadata": {},
   "outputs": [
    {
     "name": "stdout",
     "output_type": "stream",
     "text": [
      "Converted 00_core.ipynb.\n",
      "Converted 01_reshape.ipynb.\n",
      "Converted index.ipynb.\n"
     ]
    }
   ],
   "source": [
    "notebook2script()"
   ]
  },
  {
   "cell_type": "code",
   "execution_count": null,
   "id": "established-console",
   "metadata": {},
   "outputs": [],
   "source": []
  }
 ],
 "metadata": {
  "kernelspec": {
   "display_name": "Python 3",
   "language": "python",
   "name": "python3"
  }
 },
 "nbformat": 4,
 "nbformat_minor": 5
}
