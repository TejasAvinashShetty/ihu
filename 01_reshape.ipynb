{
 "cells": [
  {
   "cell_type": "code",
   "execution_count": null,
   "id": "loving-credits",
   "metadata": {},
   "outputs": [],
   "source": [
    "# default_exp reshape"
   ]
  },
  {
   "cell_type": "code",
   "execution_count": null,
   "id": "latin-estonia",
   "metadata": {},
   "outputs": [],
   "source": [
    "#hide\n",
    "%load_ext autoreload\n",
    "%autoreload 2\n",
    "from nbdev.export import notebook2script"
   ]
  },
  {
   "cell_type": "code",
   "execution_count": null,
   "id": "finished-marking",
   "metadata": {},
   "outputs": [],
   "source": [
    "#export\n",
    "from numpy.random import random_sample\n",
    "from numpy import array\n",
    "from numpy.testing import assert_allclose"
   ]
  },
  {
   "cell_type": "code",
   "execution_count": null,
   "id": "equipped-warrant",
   "metadata": {},
   "outputs": [],
   "source": [
    "#export\n",
    "def complex_random_sample(shape_tuple):\n",
    "    ''' A complex analogue of the random_sample numpy function.\n",
    "    Inputs\n",
    "    shape_tuple : tuple\n",
    "                Tuple containing the dimensions of the final\n",
    "                complex array.\n",
    "\n",
    "    Outputs :\n",
    "    crs       : ndarray\n",
    "                the complex random array of the shape as specified\n",
    "                in the shape_tuple\n",
    "                complex random sample\n",
    "\n",
    "    '''\n",
    "    rrs = random_sample(shape_tuple)  # real part of complex random sample\n",
    "    irs = random_sample(shape_tuple)  # imaginary part\n",
    "    crs = rrs + 1j*irs  # complex random sample\n",
    "    return crs\n"
   ]
  },
  {
   "cell_type": "code",
   "execution_count": null,
   "id": "traditional-japanese",
   "metadata": {},
   "outputs": [],
   "source": [
    "a = complex_random_sample((9, 10))"
   ]
  },
  {
   "cell_type": "code",
   "execution_count": null,
   "id": "figured-graph",
   "metadata": {},
   "outputs": [
    {
     "data": {
      "text/plain": [
       "(9, 10)"
      ]
     },
     "execution_count": null,
     "metadata": {},
     "output_type": "execute_result"
    }
   ],
   "source": [
    "a.shape"
   ]
  },
  {
   "cell_type": "code",
   "execution_count": null,
   "id": "worse-continuity",
   "metadata": {},
   "outputs": [
    {
     "data": {
      "text/plain": [
       "array([0.75300467+0.98342899j, 0.944736  +0.9336103j ,\n",
       "       0.72593763+0.40166059j, 0.6165342 +0.27399073j,\n",
       "       0.26317942+0.63915387j, 0.71849362+0.92171661j,\n",
       "       0.97050875+0.94489203j, 0.5053119 +0.46198611j,\n",
       "       0.30397698+0.00306701j, 0.3701068 +0.65641907j])"
      ]
     },
     "execution_count": null,
     "metadata": {},
     "output_type": "execute_result"
    }
   ],
   "source": [
    "a[2, :]"
   ]
  },
  {
   "cell_type": "code",
   "execution_count": null,
   "id": "primary-remains",
   "metadata": {},
   "outputs": [
    {
     "data": {
      "text/plain": [
       "(10,)"
      ]
     },
     "execution_count": null,
     "metadata": {},
     "output_type": "execute_result"
    }
   ],
   "source": [
    "a[2, :].shape"
   ]
  },
  {
   "cell_type": "code",
   "execution_count": null,
   "id": "alleged-transformation",
   "metadata": {},
   "outputs": [
    {
     "data": {
      "text/plain": [
       "array([0.05091931+0.13815164j, 0.90917267+0.53832846j,\n",
       "       0.97050875+0.94489203j, 0.12971599+0.74703449j,\n",
       "       0.66331514+0.29379499j, 0.32732712+0.29662729j,\n",
       "       0.96391879+0.16734803j, 0.57156168+0.84901719j,\n",
       "       0.49740752+0.61067639j])"
      ]
     },
     "execution_count": null,
     "metadata": {},
     "output_type": "execute_result"
    }
   ],
   "source": [
    "a[:, 6]"
   ]
  },
  {
   "cell_type": "code",
   "execution_count": null,
   "id": "inclusive-future",
   "metadata": {},
   "outputs": [
    {
     "data": {
      "text/plain": [
       "(9,)"
      ]
     },
     "execution_count": null,
     "metadata": {},
     "output_type": "execute_result"
    }
   ],
   "source": [
    "a[:, 6].shape"
   ]
  },
  {
   "cell_type": "code",
   "execution_count": null,
   "id": "fatal-retrieval",
   "metadata": {},
   "outputs": [
    {
     "data": {
      "text/plain": [
       "array([[0.05091931+0.13815164j, 0.90917267+0.53832846j,\n",
       "        0.97050875+0.94489203j],\n",
       "       [0.12971599+0.74703449j, 0.66331514+0.29379499j,\n",
       "        0.32732712+0.29662729j],\n",
       "       [0.96391879+0.16734803j, 0.57156168+0.84901719j,\n",
       "        0.49740752+0.61067639j]])"
      ]
     },
     "execution_count": null,
     "metadata": {},
     "output_type": "execute_result"
    }
   ],
   "source": [
    "a[:, 6].reshape(3, 3)"
   ]
  },
  {
   "cell_type": "code",
   "execution_count": null,
   "id": "automatic-edmonton",
   "metadata": {},
   "outputs": [
    {
     "data": {
      "text/plain": [
       "array([[0.05091931+0.13815164j, 0.90917267+0.53832846j,\n",
       "        0.97050875+0.94489203j],\n",
       "       [0.12971599+0.74703449j, 0.66331514+0.29379499j,\n",
       "        0.32732712+0.29662729j],\n",
       "       [0.96391879+0.16734803j, 0.57156168+0.84901719j,\n",
       "        0.49740752+0.61067639j]])"
      ]
     },
     "execution_count": null,
     "metadata": {},
     "output_type": "execute_result"
    }
   ],
   "source": [
    "a.reshape(3, 3, a.shape[-1])[:, :, 6]"
   ]
  },
  {
   "cell_type": "code",
   "execution_count": null,
   "id": "functional-polls",
   "metadata": {},
   "outputs": [],
   "source": [
    "assert_allclose(a[:, 6].reshape(3, 3), a.reshape(3, 3, a.shape[-1])[:, :, 6])"
   ]
  },
  {
   "cell_type": "markdown",
   "id": "differential-differential",
   "metadata": {},
   "source": [
    "Try changing any of the 6 in the above line to 7"
   ]
  },
  {
   "cell_type": "code",
   "execution_count": null,
   "id": "thick-interest",
   "metadata": {},
   "outputs": [
    {
     "name": "stdout",
     "output_type": "stream",
     "text": [
      "Converted 00_core.ipynb.\n",
      "Converted 01_reshape.ipynb.\n",
      "Converted index.ipynb.\n"
     ]
    }
   ],
   "source": [
    "notebook2script()"
   ]
  },
  {
   "cell_type": "code",
   "execution_count": null,
   "id": "duplicate-palestinian",
   "metadata": {},
   "outputs": [],
   "source": []
  }
 ],
 "metadata": {
  "kernelspec": {
   "display_name": "Python 3",
   "language": "python",
   "name": "python3"
  }
 },
 "nbformat": 4,
 "nbformat_minor": 5
}
