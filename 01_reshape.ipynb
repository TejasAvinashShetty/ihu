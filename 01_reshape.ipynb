{
 "cells": [
  {
   "cell_type": "code",
   "execution_count": null,
   "id": "urban-distribution",
   "metadata": {},
   "outputs": [],
   "source": [
    "# default_exp reshape"
   ]
  },
  {
   "cell_type": "code",
   "execution_count": null,
   "id": "coupled-carry",
   "metadata": {},
   "outputs": [],
   "source": [
    "#hide\n",
    "%load_ext autoreload\n",
    "%autoreload 2\n",
    "from nbdev.export import notebook2script"
   ]
  },
  {
   "cell_type": "markdown",
   "id": "single-marina",
   "metadata": {},
   "source": [
    "# Reshape"
   ]
  },
  {
   "cell_type": "code",
   "execution_count": null,
   "id": "alleged-qatar",
   "metadata": {},
   "outputs": [],
   "source": [
    "#export\n",
    "from numpy.random import random_sample\n",
    "from numpy import array\n",
    "from numpy.testing import assert_allclose"
   ]
  },
  {
   "cell_type": "code",
   "execution_count": null,
   "id": "institutional-effectiveness",
   "metadata": {},
   "outputs": [],
   "source": [
    "#export\n",
    "def complex_random_sample(shape_tuple):\n",
    "    ''' A complex analogue of the random_sample numpy function.\n",
    "    Inputs\n",
    "    shape_tuple : tuple\n",
    "                Tuple containing the dimensions of the final\n",
    "                complex array.\n",
    "\n",
    "    Outputs :\n",
    "    crs       : ndarray\n",
    "                the complex random array of the shape as specified\n",
    "                in the shape_tuple\n",
    "                complex random sample\n",
    "\n",
    "    '''\n",
    "    rrs = random_sample(shape_tuple)  # real part of complex random sample\n",
    "    irs = random_sample(shape_tuple)  # imaginary part\n",
    "    crs = rrs + 1j*irs  # complex random sample\n",
    "    return crs\n"
   ]
  },
  {
   "cell_type": "code",
   "execution_count": null,
   "id": "musical-rhythm",
   "metadata": {},
   "outputs": [],
   "source": [
    "a = complex_random_sample((9, 10))"
   ]
  },
  {
   "cell_type": "code",
   "execution_count": null,
   "id": "clean-highway",
   "metadata": {},
   "outputs": [
    {
     "data": {
      "text/plain": [
       "(9, 10)"
      ]
     },
     "execution_count": null,
     "metadata": {},
     "output_type": "execute_result"
    }
   ],
   "source": [
    "a.shape"
   ]
  },
  {
   "cell_type": "code",
   "execution_count": null,
   "id": "forward-baking",
   "metadata": {},
   "outputs": [
    {
     "data": {
      "text/plain": [
       "array([0.12559043+0.61128892j, 0.98176724+0.06611767j,\n",
       "       0.92747246+0.5550274j , 0.26733615+0.58556844j,\n",
       "       0.74813903+0.95508615j, 0.25118439+0.44896451j,\n",
       "       0.61431219+0.85576325j, 0.76634345+0.75247612j,\n",
       "       0.61044008+0.7172695j , 0.15333995+0.3864839j ])"
      ]
     },
     "execution_count": null,
     "metadata": {},
     "output_type": "execute_result"
    }
   ],
   "source": [
    "a[2, :]"
   ]
  },
  {
   "cell_type": "code",
   "execution_count": null,
   "id": "entitled-invite",
   "metadata": {},
   "outputs": [
    {
     "data": {
      "text/plain": [
       "(10,)"
      ]
     },
     "execution_count": null,
     "metadata": {},
     "output_type": "execute_result"
    }
   ],
   "source": [
    "a[2, :].shape"
   ]
  },
  {
   "cell_type": "code",
   "execution_count": null,
   "id": "thick-handy",
   "metadata": {},
   "outputs": [
    {
     "data": {
      "text/plain": [
       "array([0.07218142+0.95199211j, 0.40860741+0.36601322j,\n",
       "       0.61431219+0.85576325j, 0.00307163+0.01805683j,\n",
       "       0.17077774+0.29645294j, 0.0091934 +0.19979313j,\n",
       "       0.56401595+0.9898702j , 0.09139743+0.98470297j,\n",
       "       0.5328866 +0.98674838j])"
      ]
     },
     "execution_count": null,
     "metadata": {},
     "output_type": "execute_result"
    }
   ],
   "source": [
    "a[:, 6]"
   ]
  },
  {
   "cell_type": "code",
   "execution_count": null,
   "id": "concerned-mouse",
   "metadata": {},
   "outputs": [
    {
     "data": {
      "text/plain": [
       "(9,)"
      ]
     },
     "execution_count": null,
     "metadata": {},
     "output_type": "execute_result"
    }
   ],
   "source": [
    "a[:, 6].shape"
   ]
  },
  {
   "cell_type": "code",
   "execution_count": null,
   "id": "understanding-conjunction",
   "metadata": {},
   "outputs": [
    {
     "data": {
      "text/plain": [
       "array([[0.07218142+0.95199211j, 0.40860741+0.36601322j,\n",
       "        0.61431219+0.85576325j],\n",
       "       [0.00307163+0.01805683j, 0.17077774+0.29645294j,\n",
       "        0.0091934 +0.19979313j],\n",
       "       [0.56401595+0.9898702j , 0.09139743+0.98470297j,\n",
       "        0.5328866 +0.98674838j]])"
      ]
     },
     "execution_count": null,
     "metadata": {},
     "output_type": "execute_result"
    }
   ],
   "source": [
    "a[:, 6].reshape(3, 3)"
   ]
  },
  {
   "cell_type": "code",
   "execution_count": null,
   "id": "daily-indianapolis",
   "metadata": {},
   "outputs": [
    {
     "data": {
      "text/plain": [
       "array([[0.07218142+0.95199211j, 0.40860741+0.36601322j,\n",
       "        0.61431219+0.85576325j],\n",
       "       [0.00307163+0.01805683j, 0.17077774+0.29645294j,\n",
       "        0.0091934 +0.19979313j],\n",
       "       [0.56401595+0.9898702j , 0.09139743+0.98470297j,\n",
       "        0.5328866 +0.98674838j]])"
      ]
     },
     "execution_count": null,
     "metadata": {},
     "output_type": "execute_result"
    }
   ],
   "source": [
    "a.reshape(3, 3, a.shape[-1])[:, :, 6]"
   ]
  },
  {
   "cell_type": "code",
   "execution_count": null,
   "id": "civil-order",
   "metadata": {},
   "outputs": [],
   "source": [
    "assert_allclose(a.reshape(3, 3, a.shape[-1])[:, :, 6], a[:, 6].reshape(3, 3))"
   ]
  },
  {
   "cell_type": "markdown",
   "id": "coupled-stake",
   "metadata": {},
   "source": [
    "Try changing any of the 6 in the above line to 7"
   ]
  },
  {
   "cell_type": "code",
   "execution_count": null,
   "id": "legal-smell",
   "metadata": {},
   "outputs": [
    {
     "name": "stdout",
     "output_type": "stream",
     "text": [
      "Converted 00_core.ipynb.\n",
      "Converted 01_reshape.ipynb.\n",
      "Converted 02_herm.ipynb.\n",
      "Converted 03_unitary.ipynb.\n",
      "Converted 04_tests.ipynb.\n",
      "Converted index.ipynb.\n"
     ]
    }
   ],
   "source": [
    "#hide\n",
    "notebook2script()"
   ]
  },
  {
   "cell_type": "code",
   "execution_count": null,
   "id": "interracial-cylinder",
   "metadata": {},
   "outputs": [],
   "source": []
  }
 ],
 "metadata": {
  "kernelspec": {
   "display_name": "Python 3",
   "language": "python",
   "name": "python3"
  }
 },
 "nbformat": 4,
 "nbformat_minor": 5
}
