{
 "cells": [
  {
   "cell_type": "code",
   "execution_count": null,
   "id": "classical-relevance",
   "metadata": {},
   "outputs": [],
   "source": [
    "# default_exp reshape"
   ]
  },
  {
   "cell_type": "code",
   "execution_count": null,
   "id": "cathedral-government",
   "metadata": {},
   "outputs": [],
   "source": [
    "#hide\n",
    "%load_ext autoreload\n",
    "%autoreload 2\n",
    "from nbdev.export import notebook2script"
   ]
  },
  {
   "cell_type": "code",
   "execution_count": null,
   "id": "equal-growth",
   "metadata": {},
   "outputs": [],
   "source": [
    "#hide\n",
    "from scipy.integrate import solve_ivp\n",
    "from numpy.random import random_sample\n",
    "from numpy import array"
   ]
  },
  {
   "cell_type": "code",
   "execution_count": null,
   "id": "exterior-retreat",
   "metadata": {},
   "outputs": [],
   "source": [
    "#export\n",
    "def complex_random_sample(shape_tuple):\n",
    "    ''' A complex analogue of the random_sample numpy function.\n",
    "    Inputs\n",
    "    shape_tuple : tuple\n",
    "                Tuple containing the dimensions of the final\n",
    "                complex array.\n",
    "\n",
    "    Outputs :\n",
    "    crs       : ndarray\n",
    "                the complex random array of the shape as specified\n",
    "                in the shape_tuple\n",
    "                complex random sample\n",
    "\n",
    "    '''\n",
    "    rrs = random_sample(shape_tuple)  # real part of complex random sample\n",
    "    irs = random_sample(shape_tuple)  # imaginary part\n",
    "    crs = rrs + 1j*irs  # complex random sample\n",
    "    return crs"
   ]
  },
  {
   "cell_type": "code",
   "execution_count": null,
   "id": "polar-development",
   "metadata": {},
   "outputs": [],
   "source": [
    "a = complex_random_sample((9, 10))"
   ]
  },
  {
   "cell_type": "code",
   "execution_count": null,
   "id": "stupid-programming",
   "metadata": {},
   "outputs": [
    {
     "data": {
      "text/plain": [
       "(9, 10)"
      ]
     },
     "execution_count": null,
     "metadata": {},
     "output_type": "execute_result"
    }
   ],
   "source": [
    "a.shape"
   ]
  },
  {
   "cell_type": "code",
   "execution_count": null,
   "id": "royal-saturday",
   "metadata": {},
   "outputs": [
    {
     "data": {
      "text/plain": [
       "array([0.90296762+0.79386807j, 0.82135493+0.83175645j,\n",
       "       0.3346577 +0.30095258j, 0.34741104+0.46639234j,\n",
       "       0.72016858+0.98198877j, 0.4397284 +0.51759377j,\n",
       "       0.79507317+0.83250861j, 0.032072  +0.14483051j,\n",
       "       0.8183128 +0.28778091j, 0.40693659+0.99170544j])"
      ]
     },
     "execution_count": null,
     "metadata": {},
     "output_type": "execute_result"
    }
   ],
   "source": [
    "a[2, :]"
   ]
  },
  {
   "cell_type": "code",
   "execution_count": null,
   "id": "horizontal-exception",
   "metadata": {},
   "outputs": [
    {
     "data": {
      "text/plain": [
       "(10,)"
      ]
     },
     "execution_count": null,
     "metadata": {},
     "output_type": "execute_result"
    }
   ],
   "source": [
    "a[2, :].shape"
   ]
  },
  {
   "cell_type": "code",
   "execution_count": null,
   "id": "geographic-strand",
   "metadata": {},
   "outputs": [
    {
     "data": {
      "text/plain": [
       "array([0.84994822+0.3547827j , 0.90405353+0.92486442j,\n",
       "       0.79507317+0.83250861j, 0.26688931+0.83811898j,\n",
       "       0.75030792+0.6882016j , 0.1231356 +0.47305099j,\n",
       "       0.1507157 +0.02112447j, 0.96157086+0.48392908j,\n",
       "       0.48134647+0.97542234j])"
      ]
     },
     "execution_count": null,
     "metadata": {},
     "output_type": "execute_result"
    }
   ],
   "source": [
    "a[:, 6]"
   ]
  },
  {
   "cell_type": "code",
   "execution_count": null,
   "id": "academic-lobby",
   "metadata": {},
   "outputs": [
    {
     "data": {
      "text/plain": [
       "(9,)"
      ]
     },
     "execution_count": null,
     "metadata": {},
     "output_type": "execute_result"
    }
   ],
   "source": [
    "a[:, 6].shape"
   ]
  },
  {
   "cell_type": "code",
   "execution_count": null,
   "id": "organizational-aberdeen",
   "metadata": {},
   "outputs": [],
   "source": []
  },
  {
   "cell_type": "code",
   "execution_count": null,
   "id": "friendly-official",
   "metadata": {},
   "outputs": [],
   "source": []
  },
  {
   "cell_type": "code",
   "execution_count": null,
   "id": "metropolitan-reflection",
   "metadata": {},
   "outputs": [
    {
     "name": "stdout",
     "output_type": "stream",
     "text": [
      "Converted 00_core.ipynb.\n",
      "Converted 01_reshape.ipynb.\n",
      "Converted index.ipynb.\n"
     ]
    }
   ],
   "source": [
    "notebook2script()"
   ]
  },
  {
   "cell_type": "code",
   "execution_count": null,
   "id": "referenced-restoration",
   "metadata": {},
   "outputs": [],
   "source": []
  }
 ],
 "metadata": {
  "kernelspec": {
   "display_name": "Python 3",
   "language": "python",
   "name": "python3"
  }
 },
 "nbformat": 4,
 "nbformat_minor": 5
}
