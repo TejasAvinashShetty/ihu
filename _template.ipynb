{
 "cells": [
  {
   "cell_type": "code",
   "execution_count": null,
   "id": "informational-fluid",
   "metadata": {},
   "outputs": [],
   "source": [
    "# default_exp _template"
   ]
  },
  {
   "cell_type": "code",
   "execution_count": null,
   "id": "suburban-qualification",
   "metadata": {},
   "outputs": [],
   "source": [
    "#hide\n",
    "%load_ext autoreload\n",
    "%autoreload 2\n",
    "from nbdev.export import notebook2script"
   ]
  },
  {
   "cell_type": "markdown",
   "id": "alleged-florist",
   "metadata": {},
   "source": [
    "# Title"
   ]
  },
  {
   "cell_type": "code",
   "execution_count": null,
   "id": "instrumental-interstate",
   "metadata": {},
   "outputs": [],
   "source": [
    "#export\n",
    "from numpy.random import random_sample\n",
    "from numpy import array\n",
    "from numpy.testing import assert_allclose"
   ]
  },
  {
   "cell_type": "markdown",
   "id": "returning-bankruptcy",
   "metadata": {},
   "source": [
    " This is a template repo. Use it to make notebooks for this project.\n",
    " yyyy is the title for the broad idea for this notebook\n",
    " xx is the notebook number. It helps us know in what order the\n",
    " notebooks were first created\n",
    " \n",
    " Steps:\n",
    " - Change the name of this notebook to some xx_yyyy \n",
    " - Add the same  name i.e 'yyyy' in the default_exp cell at the top\n",
    " - In the 3rd cell change 'Title' to 'yyyy'\n",
    " - Edit the 4th cell to add your imports\n",
    " - Run all cells once\n",
    " - Delete this cell"
   ]
  },
  {
   "cell_type": "code",
   "execution_count": null,
   "id": "continent-review",
   "metadata": {},
   "outputs": [],
   "source": []
  },
  {
   "cell_type": "code",
   "execution_count": null,
   "id": "verified-plane",
   "metadata": {},
   "outputs": [
    {
     "name": "stdout",
     "output_type": "stream",
     "text": [
      "Converted 00_core.ipynb.\n",
      "Converted 01_reshape.ipynb.\n",
      "Converted 02_herm.ipynb.\n",
      "Converted 03_unitary.ipynb.\n",
      "Converted 04_tests.ipynb.\n",
      "Converted index.ipynb.\n"
     ]
    }
   ],
   "source": [
    "#hide\n",
    "notebook2script()"
   ]
  },
  {
   "cell_type": "code",
   "execution_count": null,
   "id": "hundred-control",
   "metadata": {},
   "outputs": [],
   "source": []
  }
 ],
 "metadata": {
  "kernelspec": {
   "display_name": "Python 3",
   "language": "python",
   "name": "python3"
  }
 },
 "nbformat": 4,
 "nbformat_minor": 5
}
