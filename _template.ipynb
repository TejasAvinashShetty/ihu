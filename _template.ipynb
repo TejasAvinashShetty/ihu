{
 "cells": [
  {
   "cell_type": "code",
   "execution_count": null,
   "id": "sexual-protest",
   "metadata": {},
   "outputs": [],
   "source": [
    "# default_exp _template"
   ]
  },
  {
   "cell_type": "code",
   "execution_count": null,
   "id": "imported-railway",
   "metadata": {},
   "outputs": [],
   "source": [
    "#hide\n",
    "%load_ext autoreload\n",
    "%autoreload 2\n",
    "from nbdev.export import notebook2script"
   ]
  },
  {
   "cell_type": "code",
   "execution_count": null,
   "id": "controlling-moderator",
   "metadata": {},
   "outputs": [],
   "source": [
    "#export\n",
    "from numpy.random import random_sample\n",
    "from numpy import array\n",
    "from numpy.testing import assert_allclose"
   ]
  },
  {
   "cell_type": "code",
   "execution_count": null,
   "id": "sweet-making",
   "metadata": {},
   "outputs": [],
   "source": [
    "# "
   ]
  }
 ],
 "metadata": {
  "kernelspec": {
   "display_name": "Python 3",
   "language": "python",
   "name": "python3"
  }
 },
 "nbformat": 4,
 "nbformat_minor": 5
}
