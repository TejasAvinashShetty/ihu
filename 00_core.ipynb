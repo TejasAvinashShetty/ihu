{
 "cells": [
  {
   "cell_type": "code",
   "execution_count": null,
   "metadata": {},
   "outputs": [],
   "source": [
    "# default_exp core"
   ]
  },
  {
   "cell_type": "markdown",
   "metadata": {},
   "source": [
    "# ihu\n",
    "\n",
    "> Evolve any unitary using solve_ivp."
   ]
  },
  {
   "cell_type": "code",
   "execution_count": null,
   "metadata": {},
   "outputs": [
    {
     "name": "stdout",
     "output_type": "stream",
     "text": [
      "The autoreload extension is already loaded. To reload it, use:\n",
      "  %reload_ext autoreload\n"
     ]
    }
   ],
   "source": [
    "#hide\n",
    "%load_ext autoreload\n",
    "%autoreload 2\n",
    "from nbdev.export import notebook2script\n",
    "from nbdev.showdoc import *"
   ]
  },
  {
   "cell_type": "code",
   "execution_count": null,
   "metadata": {},
   "outputs": [],
   "source": [
    "#export\n",
    "from scipy.integrate import solve_ivp\n",
    "from numpy.random import random_sample\n",
    "from numpy import array\n",
    "from ihu.herm import rand_herm_ndarray, test_herm_ndarray\n",
    "from ihu.unitary import rand_unitary_ndarray, test_unitary_ndarray"
   ]
  },
  {
   "cell_type": "markdown",
   "metadata": {},
   "source": [
    "\n"
   ]
  },
  {
   "cell_type": "code",
   "execution_count": null,
   "metadata": {},
   "outputs": [],
   "source": [
    "#export\n",
    "def ihu(ham_func, u0, T, no_time_step_for_eval, **kwargs):\n",
    "    r\"\"\"evolves the unitary\n",
    "        \n",
    "    Steps:\n",
    "    - Determines Shape of U0.\n",
    "    - Determines Shape of H (at any random time t).\n",
    "    - If anyone of U, H are non square exit.\n",
    "    - If shapes match proceed else exit.\n",
    "    - make sure Output of H is Hermitian \n",
    "      (by trying it out at 3 different times)\n",
    "    - Initialize inputs T, Nt\n",
    "    - Flatten u0 to get y0\n",
    "    - calculate dt = T/ Nt\n",
    "    - make y_der\n",
    "    - evolve y\n",
    "    - collect results\n",
    "    - y_series to u_series\n",
    "    - print messages\n",
    "    - return stuff + useries\n",
    "        \n",
    "    \n",
    "    \n",
    "    Parameters\n",
    "    ----------\n",
    "    ham_func : function\n",
    "        Function which produces the Hamiltonian \n",
    "        as it appears at time t\n",
    "        form ham_func(t)\n",
    "    u0 : ndarray\n",
    "        Unitary at time 0\n",
    "    T : float\n",
    "        Evolution time\n",
    "    no_time_step_for_eval : int\n",
    "        no of time steps for evaluation in the \n",
    "        final output\n",
    "    **kwargs\n",
    "        Arbitrary optional keyword arguments.\n",
    "        w : float\n",
    "            Defaults to 6.28\n",
    "    \n",
    "    Returns\n",
    "    -------\n",
    "    Bunch object with the following fields defined:\n",
    "    t  : [ndarray, shape (n_points,)] \n",
    "        Time points.        \n",
    "    y  : [ndarray, shape (n, n_points)] \n",
    "        Values of the solution at t.\n",
    "    sol: [OdeSolution or None] \n",
    "        Found solution as OdeSolution instance; None if\n",
    "        dense_output was set to False.\n",
    "    t_events: [list of ndarray or None]\n",
    "        Contains for each event type a list of arrays at which an event of\n",
    "        that type event was detected. None if events was None.\n",
    "    nfev: [int] \n",
    "        Number of evaluations of the right-hand side.\n",
    "    njev: [int]\n",
    "        Number of evaluations of the Jacobian.\n",
    "    nlu :[int] \n",
    "        Number of LU decompositions.\n",
    "    status [int] \n",
    "        Reason for algorithm termination:\n",
    "        • -1: Integration step failed.\n",
    "        • 0: The solver successfully reached the end of tspan.\n",
    "        • 1: A termination event occurred.\n",
    "    message: [string] \n",
    "        Human-readable description of the termination reason.\n",
    "    success: [bool] \n",
    "        True if the solver reached the interval end or a \n",
    "        termination event occurred (status\n",
    "    >= 0).\n",
    "    \n",
    "    u_series :[ndarray, shape (sqrt(n), sqrt(n), n_points)] \n",
    "        Values of the solution at t.\n",
    "    \n",
    "    \"\"\"\n",
    "    \n",
    "    return (x**2 + len(y)) * (w + z)\n"
   ]
  },
  {
   "cell_type": "code",
   "execution_count": null,
   "metadata": {},
   "outputs": [],
   "source": [
    "#export\n",
    "def y_der(x, yevolver, z=3.14, **kwargs):\n",
    "    r\"\"\"Some function\n",
    "    \n",
    "    Does some stuff.\n",
    "    \n",
    "    Parameters\n",
    "    ----------\n",
    "    x : int\n",
    "        Description of x\n",
    "    y : str\n",
    "        Description of y\n",
    "    z : float, optional\n",
    "        Description of z.  Defaults to 3.14\n",
    "    **kwargs\n",
    "        Arbitrary optional keyword arguments.\n",
    "        w : float\n",
    "            Defaults to 6.28\n",
    "    \n",
    "    Returns\n",
    "    -------\n",
    "    double\n",
    "        Some nonsensical number computed from some ugly formula\n",
    "    \n",
    "    \"\"\"\n",
    "    w = kwargs.pop(\"w\", 6.28)\n",
    "    if kwargs:\n",
    "        print(\"Got {0} unused kwargs\".format(len(kwargs)))\n",
    "    return (x**2 + len(y)) * (w + z)"
   ]
  },
  {
   "cell_type": "code",
   "execution_count": null,
   "metadata": {},
   "outputs": [
    {
     "name": "stdout",
     "output_type": "stream",
     "text": [
      "Converted 00_core.ipynb.\n",
      "Converted 01_reshape.ipynb.\n",
      "Converted index.ipynb.\n"
     ]
    }
   ],
   "source": [
    "notebook2script()"
   ]
  },
  {
   "cell_type": "code",
   "execution_count": null,
   "metadata": {},
   "outputs": [],
   "source": []
  }
 ],
 "metadata": {
  "kernelspec": {
   "display_name": "Python 3",
   "language": "python",
   "name": "python3"
  }
 },
 "nbformat": 4,
 "nbformat_minor": 2
}
