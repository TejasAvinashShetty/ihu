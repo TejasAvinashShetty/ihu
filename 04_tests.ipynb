{
 "cells": [
  {
   "cell_type": "code",
   "execution_count": null,
   "id": "informational-fluid",
   "metadata": {},
   "outputs": [],
   "source": [
    "# default_exp 04_tests"
   ]
  },
  {
   "cell_type": "code",
   "execution_count": null,
   "id": "suburban-qualification",
   "metadata": {},
   "outputs": [],
   "source": [
    "#hide\n",
    "%load_ext autoreload\n",
    "%autoreload 2\n",
    "from nbdev.export import notebook2script"
   ]
  },
  {
   "cell_type": "code",
   "execution_count": null,
   "id": "instrumental-interstate",
   "metadata": {},
   "outputs": [],
   "source": [
    "#export\n",
    "from numpy.random import random_sample\n",
    "from numpy import array, identity\n",
    "from numpy.testing import assert_allclose\n",
    "from ihu.core import ihu, y_der, check_for_stupidity\n",
    "from ihu.herm import rand_herm_ndarray, test_herm_ndarray\n",
    "from ihu.unitary import rand_unitary_ndarray, test_unitary_ndarray"
   ]
  },
  {
   "cell_type": "markdown",
   "id": "occupied-folks",
   "metadata": {},
   "source": [
    "# Independent tests"
   ]
  },
  {
   "cell_type": "markdown",
   "id": "returning-bankruptcy",
   "metadata": {},
   "source": [
    "## Identity Hamiltonian"
   ]
  },
  {
   "cell_type": "code",
   "execution_count": null,
   "id": "continent-review",
   "metadata": {},
   "outputs": [],
   "source": [
    "#export\n",
    "def identity_ham(t):\n",
    "    iden = identity(2)\n",
    "    return iden"
   ]
  },
  {
   "cell_type": "code",
   "execution_count": null,
   "id": "middle-wings",
   "metadata": {},
   "outputs": [
    {
     "data": {
      "text/plain": [
       "array([[1., 0.],\n",
       "       [0., 1.]])"
      ]
     },
     "execution_count": null,
     "metadata": {},
     "output_type": "execute_result"
    }
   ],
   "source": [
    "identity_ham(3)"
   ]
  },
  {
   "cell_type": "code",
   "execution_count": null,
   "id": "specialized-asbestos",
   "metadata": {},
   "outputs": [],
   "source": [
    "#export\n",
    "u0 = rand_unitary_ndarray((2,2))\n",
    "evolution_time = 5\n",
    "no_time_step_for_eval = 100"
   ]
  },
  {
   "cell_type": "markdown",
   "id": "political-understanding",
   "metadata": {},
   "source": [
    "u_series, result = ihu(ham_func, u0, T, no_time_step_for_eval,)"
   ]
  },
  {
   "cell_type": "code",
   "execution_count": null,
   "id": "advanced-concept",
   "metadata": {},
   "outputs": [],
   "source": [
    "#u_series, result = ihu(identity_ham, u0, evolution_time, \n",
    "#                       no_time_step_for_eval,)"
   ]
  },
  {
   "cell_type": "markdown",
   "id": "informative-ministry",
   "metadata": {},
   "source": [
    "## Sigma xyz Hamiltonian"
   ]
  },
  {
   "cell_type": "markdown",
   "id": "opening-union",
   "metadata": {},
   "source": [
    "# Tests against mesolve of QuTiP"
   ]
  },
  {
   "cell_type": "code",
   "execution_count": null,
   "id": "synthetic-athletics",
   "metadata": {},
   "outputs": [],
   "source": []
  },
  {
   "cell_type": "code",
   "execution_count": null,
   "id": "verified-plane",
   "metadata": {},
   "outputs": [
    {
     "name": "stdout",
     "output_type": "stream",
     "text": [
      "Converted 00_core.ipynb.\n",
      "Converted 01_reshape.ipynb.\n",
      "Converted 02_herm.ipynb.\n",
      "Converted 03_unitary.ipynb.\n",
      "Converted 04_tests.ipynb.\n",
      "Converted index.ipynb.\n"
     ]
    }
   ],
   "source": [
    "notebook2script()"
   ]
  },
  {
   "cell_type": "code",
   "execution_count": null,
   "id": "latin-yorkshire",
   "metadata": {},
   "outputs": [],
   "source": []
  }
 ],
 "metadata": {
  "kernelspec": {
   "display_name": "Python 3",
   "language": "python",
   "name": "python3"
  }
 },
 "nbformat": 4,
 "nbformat_minor": 5
}
