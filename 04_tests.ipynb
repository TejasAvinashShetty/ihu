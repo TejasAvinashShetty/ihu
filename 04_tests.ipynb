{
 "cells": [
  {
   "cell_type": "code",
   "execution_count": null,
   "id": "informational-fluid",
   "metadata": {},
   "outputs": [],
   "source": [
    "# default_exp 04_tests"
   ]
  },
  {
   "cell_type": "code",
   "execution_count": null,
   "id": "suburban-qualification",
   "metadata": {},
   "outputs": [],
   "source": [
    "#hide\n",
    "%load_ext autoreload\n",
    "%autoreload 2\n",
    "from nbdev.export import notebook2script"
   ]
  },
  {
   "cell_type": "code",
   "execution_count": null,
   "id": "instrumental-interstate",
   "metadata": {},
   "outputs": [],
   "source": [
    "#export\n",
    "from numpy.random import random_sample\n",
    "from numpy import array\n",
    "from numpy.testing import assert_allclose\n",
    "from ihu.core import ihu, y_der, check_for_stupidity\n",
    "from ihu.herm import rand_herm_ndarray, test_herm_ndarray\n",
    "from ihu.unitary import rand_unitary_ndarray, test_unitary_ndarray"
   ]
  },
  {
   "cell_type": "markdown",
   "id": "pleasant-librarian",
   "metadata": {},
   "source": [
    "# Independent tests"
   ]
  },
  {
   "cell_type": "markdown",
   "id": "returning-bankruptcy",
   "metadata": {},
   "source": [
    "## Identity Hamiltonian"
   ]
  },
  {
   "cell_type": "code",
   "execution_count": null,
   "id": "continent-review",
   "metadata": {},
   "outputs": [],
   "source": [
    "#export\n",
    "def identity_ham(t):\n",
    "    iden = array(shape(2, 2))\n",
    "    return iden"
   ]
  },
  {
   "cell_type": "code",
   "execution_count": null,
   "id": "nasty-bridal",
   "metadata": {},
   "outputs": [
    {
     "data": {
      "text/plain": [
       "array([2, 2])"
      ]
     },
     "execution_count": null,
     "metadata": {},
     "output_type": "execute_result"
    }
   ],
   "source": [
    "identity_ham(3)"
   ]
  },
  {
   "cell_type": "code",
   "execution_count": null,
   "id": "consecutive-dress",
   "metadata": {},
   "outputs": [],
   "source": []
  },
  {
   "cell_type": "markdown",
   "id": "cultural-holder",
   "metadata": {},
   "source": [
    "## Sigma xyz Hamiltonian"
   ]
  },
  {
   "cell_type": "markdown",
   "id": "controlling-proposal",
   "metadata": {},
   "source": [
    "# Tests against mesolve of QuTiP"
   ]
  },
  {
   "cell_type": "code",
   "execution_count": null,
   "id": "bridal-scheme",
   "metadata": {},
   "outputs": [],
   "source": []
  },
  {
   "cell_type": "code",
   "execution_count": null,
   "id": "verified-plane",
   "metadata": {},
   "outputs": [
    {
     "name": "stdout",
     "output_type": "stream",
     "text": [
      "Converted 00_core.ipynb.\n",
      "Converted 01_reshape.ipynb.\n",
      "Converted 02_herm.ipynb.\n",
      "Converted 03_unitary.ipynb.\n",
      "Converted 04_tests.ipynb.\n",
      "Converted index.ipynb.\n"
     ]
    }
   ],
   "source": [
    "notebook2script()"
   ]
  },
  {
   "cell_type": "code",
   "execution_count": null,
   "id": "thrown-headline",
   "metadata": {},
   "outputs": [],
   "source": []
  }
 ],
 "metadata": {
  "kernelspec": {
   "display_name": "Python 3",
   "language": "python",
   "name": "python3"
  }
 },
 "nbformat": 4,
 "nbformat_minor": 5
}
