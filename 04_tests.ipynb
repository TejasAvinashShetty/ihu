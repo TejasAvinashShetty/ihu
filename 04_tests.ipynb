{
 "cells": [
  {
   "cell_type": "code",
   "execution_count": null,
   "id": "informational-fluid",
   "metadata": {},
   "outputs": [],
   "source": [
    "# default_exp tests"
   ]
  },
  {
   "cell_type": "code",
   "execution_count": null,
   "id": "suburban-qualification",
   "metadata": {},
   "outputs": [
    {
     "name": "stdout",
     "output_type": "stream",
     "text": [
      "The autoreload extension is already loaded. To reload it, use:\n",
      "  %reload_ext autoreload\n"
     ]
    }
   ],
   "source": [
    "#hide\n",
    "%load_ext autoreload\n",
    "%autoreload 2\n",
    "from nbdev.export import notebook2script"
   ]
  },
  {
   "cell_type": "code",
   "execution_count": null,
   "id": "instrumental-interstate",
   "metadata": {},
   "outputs": [],
   "source": [
    "#export\n",
    "from numpy.random import random_sample\n",
    "from numpy import array, identity, zeros, linspace, pi, empty\n",
    "from numpy.testing import assert_allclose\n",
    "from qutip import mesolve\n",
    "from qutip import basis\n",
    "from qutip import sigmax, sigmay, sigmaz, qeye\n",
    "from qutip.ui.progressbar import BaseProgressBar, TextProgressBar\n",
    "from math import sin, cos\n",
    "from ihu.core import ihu, y_der, check_for_stupidity\n",
    "from ihu.herm import rand_herm_ndarray, test_herm_ndarray\n",
    "from ihu.unitary import rand_unitary_ndarray, test_unitary_ndarray"
   ]
  },
  {
   "cell_type": "markdown",
   "id": "wicked-retreat",
   "metadata": {},
   "source": [
    "# Independent tests"
   ]
  },
  {
   "cell_type": "markdown",
   "id": "likely-fault",
   "metadata": {},
   "source": [
    "## zero Hamiltonian with identity unitary"
   ]
  },
  {
   "cell_type": "code",
   "execution_count": null,
   "id": "manufactured-camping",
   "metadata": {},
   "outputs": [],
   "source": [
    "#export\n",
    "def zero_ham(t):\n",
    "    zerodha = zeros((2,2), dtype=complex)\n",
    "    return zerodha"
   ]
  },
  {
   "cell_type": "code",
   "execution_count": null,
   "id": "recorded-lawsuit",
   "metadata": {},
   "outputs": [
    {
     "data": {
      "text/plain": [
       "array([[0.+0.j, 0.+0.j],\n",
       "       [0.+0.j, 0.+0.j]])"
      ]
     },
     "execution_count": null,
     "metadata": {},
     "output_type": "execute_result"
    }
   ],
   "source": [
    "zero_ham(3)"
   ]
  },
  {
   "cell_type": "code",
   "execution_count": null,
   "id": "productive-heading",
   "metadata": {},
   "outputs": [
    {
     "data": {
      "text/plain": [
       "dtype('complex128')"
      ]
     },
     "execution_count": null,
     "metadata": {},
     "output_type": "execute_result"
    }
   ],
   "source": [
    "zero_ham(3).dtype"
   ]
  },
  {
   "cell_type": "code",
   "execution_count": null,
   "id": "complicated-notification",
   "metadata": {},
   "outputs": [],
   "source": [
    "#export\n",
    "# u0 = rand_unitary_ndarray((2,2))\n",
    "u0 = array([[1.+0.j, 0.+0.j],\n",
    "           [0.+0.j, 1.+0.j]])\n",
    "evolution_time = 5\n",
    "no_time_step_for_eval = 100"
   ]
  },
  {
   "cell_type": "code",
   "execution_count": null,
   "id": "atlantic-catalyst",
   "metadata": {},
   "outputs": [
    {
     "data": {
      "text/plain": [
       "array([[1.+0.j, 0.+0.j],\n",
       "       [0.+0.j, 1.+0.j]])"
      ]
     },
     "execution_count": null,
     "metadata": {},
     "output_type": "execute_result"
    }
   ],
   "source": [
    "u0"
   ]
  },
  {
   "cell_type": "markdown",
   "id": "palestinian-boards",
   "metadata": {},
   "source": [
    "u_series, result = ihu(ham_func, u0, T, no_time_step_for_eval,)"
   ]
  },
  {
   "cell_type": "code",
   "execution_count": null,
   "id": "interim-contest",
   "metadata": {},
   "outputs": [
    {
     "name": "stdout",
     "output_type": "stream",
     "text": [
      "The solver successfully reached the end of the integration interval.\n"
     ]
    }
   ],
   "source": [
    "#export\n",
    "u_series, result = ihu(zero_ham, u0, evolution_time, \n",
    "                       no_time_step_for_eval,)"
   ]
  },
  {
   "cell_type": "code",
   "execution_count": null,
   "id": "prescribed-enzyme",
   "metadata": {},
   "outputs": [
    {
     "data": {
      "text/plain": [
       "(2, 2, 100)"
      ]
     },
     "execution_count": null,
     "metadata": {},
     "output_type": "execute_result"
    }
   ],
   "source": [
    "u_series.shape"
   ]
  },
  {
   "cell_type": "code",
   "execution_count": null,
   "id": "sudden-youth",
   "metadata": {},
   "outputs": [
    {
     "data": {
      "text/plain": [
       "array([[1.+0.j, 0.+0.j],\n",
       "       [0.+0.j, 1.+0.j]])"
      ]
     },
     "execution_count": null,
     "metadata": {},
     "output_type": "execute_result"
    }
   ],
   "source": [
    "u_series[:, :, 0]"
   ]
  },
  {
   "cell_type": "code",
   "execution_count": null,
   "id": "developmental-validation",
   "metadata": {},
   "outputs": [
    {
     "data": {
      "text/plain": [
       "array([[1.+0.j, 0.+0.j],\n",
       "       [0.+0.j, 1.+0.j]])"
      ]
     },
     "execution_count": null,
     "metadata": {},
     "output_type": "execute_result"
    }
   ],
   "source": [
    "u_series[:, :, -1]"
   ]
  },
  {
   "cell_type": "code",
   "execution_count": null,
   "id": "practical-ferry",
   "metadata": {},
   "outputs": [
    {
     "data": {
      "text/plain": [
       "array([[0.+0.j, 0.+0.j],\n",
       "       [0.+0.j, 0.+0.j]])"
      ]
     },
     "execution_count": null,
     "metadata": {},
     "output_type": "execute_result"
    }
   ],
   "source": [
    "-1j*zero_ham(3)@u0"
   ]
  },
  {
   "cell_type": "code",
   "execution_count": null,
   "id": "electrical-valley",
   "metadata": {},
   "outputs": [],
   "source": [
    "#export\n",
    "assert_allclose(u_series[:, :, -1], u0)"
   ]
  },
  {
   "cell_type": "code",
   "execution_count": null,
   "id": "judicial-kansas",
   "metadata": {},
   "outputs": [],
   "source": [
    "#export\n",
    "for i in range(u_series.shape[-1]):\n",
    "    assert_allclose(u_series[:, :, i], u0)"
   ]
  },
  {
   "cell_type": "markdown",
   "id": "liberal-obligation",
   "metadata": {},
   "source": [
    "## zero Hamiltonian"
   ]
  },
  {
   "cell_type": "code",
   "execution_count": null,
   "id": "native-syntax",
   "metadata": {},
   "outputs": [],
   "source": [
    "#export\n",
    "def zero_ham(t):\n",
    "    zerodha = zeros((2,2), dtype=complex)\n",
    "    return zerodha"
   ]
  },
  {
   "cell_type": "code",
   "execution_count": null,
   "id": "outdoor-majority",
   "metadata": {},
   "outputs": [
    {
     "data": {
      "text/plain": [
       "array([[0.+0.j, 0.+0.j],\n",
       "       [0.+0.j, 0.+0.j]])"
      ]
     },
     "execution_count": null,
     "metadata": {},
     "output_type": "execute_result"
    }
   ],
   "source": [
    "zero_ham(3)"
   ]
  },
  {
   "cell_type": "code",
   "execution_count": null,
   "id": "knowing-chart",
   "metadata": {},
   "outputs": [
    {
     "data": {
      "text/plain": [
       "dtype('complex128')"
      ]
     },
     "execution_count": null,
     "metadata": {},
     "output_type": "execute_result"
    }
   ],
   "source": [
    "zero_ham(3).dtype"
   ]
  },
  {
   "cell_type": "code",
   "execution_count": null,
   "id": "filled-cologne",
   "metadata": {},
   "outputs": [],
   "source": [
    "#export\n",
    "u0 = rand_unitary_ndarray((2,2))\n",
    "#u0 = array([[1.+0.j, 0.+0.j],\n",
    "#           [0.+0.j, 1.+0.j]])\n",
    "evolution_time = 5\n",
    "no_time_step_for_eval = 100"
   ]
  },
  {
   "cell_type": "code",
   "execution_count": null,
   "id": "excessive-portugal",
   "metadata": {},
   "outputs": [
    {
     "data": {
      "text/plain": [
       "array([[ 0.75540913+0.01988085j,  0.59938312+0.26401074j],\n",
       "       [-0.51724249+0.40177357j,  0.72792542-0.20288612j]])"
      ]
     },
     "execution_count": null,
     "metadata": {},
     "output_type": "execute_result"
    }
   ],
   "source": [
    "u0"
   ]
  },
  {
   "cell_type": "markdown",
   "id": "architectural-generation",
   "metadata": {},
   "source": [
    "u_series, result = ihu(ham_func, u0, T, no_time_step_for_eval,)"
   ]
  },
  {
   "cell_type": "code",
   "execution_count": null,
   "id": "bottom-mistake",
   "metadata": {},
   "outputs": [
    {
     "name": "stdout",
     "output_type": "stream",
     "text": [
      "The solver successfully reached the end of the integration interval.\n"
     ]
    }
   ],
   "source": [
    "#export\n",
    "u_series, result = ihu(zero_ham, u0, evolution_time, \n",
    "                       no_time_step_for_eval,)"
   ]
  },
  {
   "cell_type": "code",
   "execution_count": null,
   "id": "peaceful-breast",
   "metadata": {},
   "outputs": [
    {
     "data": {
      "text/plain": [
       "(2, 2, 100)"
      ]
     },
     "execution_count": null,
     "metadata": {},
     "output_type": "execute_result"
    }
   ],
   "source": [
    "u_series.shape"
   ]
  },
  {
   "cell_type": "code",
   "execution_count": null,
   "id": "fewer-creation",
   "metadata": {},
   "outputs": [
    {
     "data": {
      "text/plain": [
       "array([[ 0.75540913+0.01988085j,  0.59938312+0.26401074j],\n",
       "       [-0.51724249+0.40177357j,  0.72792542-0.20288612j]])"
      ]
     },
     "execution_count": null,
     "metadata": {},
     "output_type": "execute_result"
    }
   ],
   "source": [
    "u_series[:, :, 0]"
   ]
  },
  {
   "cell_type": "code",
   "execution_count": null,
   "id": "religious-scenario",
   "metadata": {},
   "outputs": [
    {
     "data": {
      "text/plain": [
       "array([[ 0.75540913+0.01988085j,  0.59938312+0.26401074j],\n",
       "       [-0.51724249+0.40177357j,  0.72792542-0.20288612j]])"
      ]
     },
     "execution_count": null,
     "metadata": {},
     "output_type": "execute_result"
    }
   ],
   "source": [
    "u_series[:, :, -1]"
   ]
  },
  {
   "cell_type": "code",
   "execution_count": null,
   "id": "present-variance",
   "metadata": {},
   "outputs": [
    {
     "data": {
      "text/plain": [
       "array([[0.+0.j, 0.+0.j],\n",
       "       [0.+0.j, 0.+0.j]])"
      ]
     },
     "execution_count": null,
     "metadata": {},
     "output_type": "execute_result"
    }
   ],
   "source": [
    "-1j*zero_ham(3)@u0"
   ]
  },
  {
   "cell_type": "code",
   "execution_count": null,
   "id": "flying-upset",
   "metadata": {},
   "outputs": [],
   "source": [
    "#export\n",
    "assert_allclose(u_series[:, :, -1], u0)"
   ]
  },
  {
   "cell_type": "code",
   "execution_count": null,
   "id": "cleared-savannah",
   "metadata": {},
   "outputs": [],
   "source": [
    "#export\n",
    "for i in range(u_series.shape[-1]):\n",
    "    assert_allclose(u_series[:, :, i], u0)"
   ]
  },
  {
   "cell_type": "markdown",
   "id": "returning-bankruptcy",
   "metadata": {},
   "source": [
    "## Identity Hamiltonian"
   ]
  },
  {
   "cell_type": "code",
   "execution_count": null,
   "id": "continent-review",
   "metadata": {},
   "outputs": [],
   "source": [
    "#export\n",
    "def identity_ham(t):\n",
    "    iden = identity(2, dtype=complex)\n",
    "    return iden"
   ]
  },
  {
   "cell_type": "code",
   "execution_count": null,
   "id": "nuclear-panel",
   "metadata": {},
   "outputs": [
    {
     "data": {
      "text/plain": [
       "array([[1.+0.j, 0.+0.j],\n",
       "       [0.+0.j, 1.+0.j]])"
      ]
     },
     "execution_count": null,
     "metadata": {},
     "output_type": "execute_result"
    }
   ],
   "source": [
    "identity_ham(3)"
   ]
  },
  {
   "cell_type": "code",
   "execution_count": null,
   "id": "coastal-fisher",
   "metadata": {},
   "outputs": [
    {
     "data": {
      "text/plain": [
       "dtype('complex128')"
      ]
     },
     "execution_count": null,
     "metadata": {},
     "output_type": "execute_result"
    }
   ],
   "source": [
    "identity_ham(3).dtype"
   ]
  },
  {
   "cell_type": "code",
   "execution_count": null,
   "id": "understood-dependence",
   "metadata": {},
   "outputs": [],
   "source": [
    "#export\n",
    "u0 = rand_unitary_ndarray((2,2))\n",
    "evolution_time = 5\n",
    "no_time_step_for_eval = 100"
   ]
  },
  {
   "cell_type": "code",
   "execution_count": null,
   "id": "expressed-geology",
   "metadata": {},
   "outputs": [
    {
     "data": {
      "text/plain": [
       "array([[0.9214271 +0.38855128j, 0.        +0.j        ],\n",
       "       [0.        +0.j        , 0.59777187-0.80166626j]])"
      ]
     },
     "execution_count": null,
     "metadata": {},
     "output_type": "execute_result"
    }
   ],
   "source": [
    "u0"
   ]
  },
  {
   "cell_type": "markdown",
   "id": "recreational-repository",
   "metadata": {},
   "source": [
    "u_series, result = ihu(ham_func, u0, T, no_time_step_for_eval,)"
   ]
  },
  {
   "cell_type": "code",
   "execution_count": null,
   "id": "wound-effort",
   "metadata": {},
   "outputs": [
    {
     "name": "stdout",
     "output_type": "stream",
     "text": [
      "The solver successfully reached the end of the integration interval.\n"
     ]
    }
   ],
   "source": [
    "#export\n",
    "u_series, result = ihu(identity_ham, u0, evolution_time, \n",
    "                       no_time_step_for_eval,)"
   ]
  },
  {
   "cell_type": "code",
   "execution_count": null,
   "id": "opening-webster",
   "metadata": {},
   "outputs": [
    {
     "data": {
      "text/plain": [
       "(2, 2, 100)"
      ]
     },
     "execution_count": null,
     "metadata": {},
     "output_type": "execute_result"
    }
   ],
   "source": [
    "u_series.shape"
   ]
  },
  {
   "cell_type": "code",
   "execution_count": null,
   "id": "indoor-dover",
   "metadata": {},
   "outputs": [
    {
     "data": {
      "text/plain": [
       "array([[0.9214271 +0.38855128j, 0.        +0.j        ],\n",
       "       [0.        +0.j        , 0.59777187-0.80166626j]])"
      ]
     },
     "execution_count": null,
     "metadata": {},
     "output_type": "execute_result"
    }
   ],
   "source": [
    "u_series[:, :, 0]"
   ]
  },
  {
   "cell_type": "code",
   "execution_count": null,
   "id": "convenient-disabled",
   "metadata": {},
   "outputs": [
    {
     "data": {
      "text/plain": [
       "array([[-0.10960228+0.99395976j,  0.        +0.j        ],\n",
       "       [ 0.        +0.j        ,  0.93884788+0.34428669j]])"
      ]
     },
     "execution_count": null,
     "metadata": {},
     "output_type": "execute_result"
    }
   ],
   "source": [
    "u_series[:, :, -1]"
   ]
  },
  {
   "cell_type": "code",
   "execution_count": null,
   "id": "uniform-hydrogen",
   "metadata": {},
   "outputs": [
    {
     "data": {
      "text/plain": [
       "array([[ 0.38855128-0.9214271j ,  0.        +0.j        ],\n",
       "       [ 0.        +0.j        , -0.80166626-0.59777187j]])"
      ]
     },
     "execution_count": null,
     "metadata": {},
     "output_type": "execute_result"
    }
   ],
   "source": [
    "-1j*identity_ham(3)@u0"
   ]
  },
  {
   "cell_type": "markdown",
   "id": "attended-miller",
   "metadata": {},
   "source": [
    "## Sigma xyz Hamiltonian"
   ]
  },
  {
   "cell_type": "markdown",
   "id": "grave-rates",
   "metadata": {},
   "source": [
    "# Tests against mesolve of QuTiP"
   ]
  },
  {
   "cell_type": "code",
   "execution_count": null,
   "id": "multiple-amazon",
   "metadata": {},
   "outputs": [],
   "source": [
    "#export\n",
    "H = 2*pi*0.1*sigmax()"
   ]
  },
  {
   "cell_type": "code",
   "execution_count": null,
   "id": "blessed-boston",
   "metadata": {},
   "outputs": [],
   "source": [
    "#export\n",
    "psi0 = basis(2, 0)"
   ]
  },
  {
   "cell_type": "code",
   "execution_count": null,
   "id": "tutorial-daniel",
   "metadata": {},
   "outputs": [],
   "source": [
    "#export\n",
    "times = linspace(0.0, 10, 20)"
   ]
  },
  {
   "cell_type": "code",
   "execution_count": null,
   "id": "appreciated-audience",
   "metadata": {},
   "outputs": [],
   "source": [
    "#export\n",
    "mere_result = mesolve(H, psi0, times)"
   ]
  },
  {
   "cell_type": "code",
   "execution_count": null,
   "id": "missing-entertainment",
   "metadata": {},
   "outputs": [
    {
     "data": {
      "text/plain": [
       "20"
      ]
     },
     "execution_count": null,
     "metadata": {},
     "output_type": "execute_result"
    }
   ],
   "source": [
    "len(mere_result.states)"
   ]
  },
  {
   "cell_type": "code",
   "execution_count": null,
   "id": "infinite-wagner",
   "metadata": {},
   "outputs": [],
   "source": [
    "#export\n",
    "def q_ham(t):\n",
    "    qutham = H.full()\n",
    "    return qutham"
   ]
  },
  {
   "cell_type": "code",
   "execution_count": null,
   "id": "overall-penny",
   "metadata": {},
   "outputs": [
    {
     "data": {
      "text/plain": [
       "array([[0.        +0.j, 0.62831853+0.j],\n",
       "       [0.62831853+0.j, 0.        +0.j]])"
      ]
     },
     "execution_count": null,
     "metadata": {},
     "output_type": "execute_result"
    }
   ],
   "source": [
    "q_ham(2)"
   ]
  },
  {
   "cell_type": "code",
   "execution_count": null,
   "id": "civilian-applicant",
   "metadata": {},
   "outputs": [],
   "source": [
    "#export\n",
    "u0 = identity(2, dtype=complex)\n",
    "evolution_time = 10\n",
    "no_time_step_for_eval = 20"
   ]
  },
  {
   "cell_type": "code",
   "execution_count": null,
   "id": "essential-antibody",
   "metadata": {},
   "outputs": [
    {
     "data": {
      "text/plain": [
       "array([[1.+0.j, 0.+0.j],\n",
       "       [0.+0.j, 1.+0.j]])"
      ]
     },
     "execution_count": null,
     "metadata": {},
     "output_type": "execute_result"
    }
   ],
   "source": [
    "u0"
   ]
  },
  {
   "cell_type": "markdown",
   "id": "reported-guidance",
   "metadata": {},
   "source": [
    "u_series, result = ihu(ham_func, u0, T, no_time_step_for_eval,)"
   ]
  },
  {
   "cell_type": "code",
   "execution_count": null,
   "id": "broken-denial",
   "metadata": {},
   "outputs": [
    {
     "name": "stdout",
     "output_type": "stream",
     "text": [
      "The solver successfully reached the end of the integration interval.\n"
     ]
    }
   ],
   "source": [
    "#export\n",
    "u_series, result = ihu(q_ham, u0, evolution_time, \n",
    "                       no_time_step_for_eval,)"
   ]
  },
  {
   "cell_type": "code",
   "execution_count": null,
   "id": "humanitarian-rings",
   "metadata": {},
   "outputs": [
    {
     "data": {
      "text/plain": [
       "(2, 2, 20)"
      ]
     },
     "execution_count": null,
     "metadata": {},
     "output_type": "execute_result"
    }
   ],
   "source": [
    "u_series.shape"
   ]
  },
  {
   "cell_type": "code",
   "execution_count": null,
   "id": "immune-portsmouth",
   "metadata": {},
   "outputs": [],
   "source": [
    "#export\n",
    "psi0_ndarray = psi0.full().ravel()"
   ]
  },
  {
   "cell_type": "code",
   "execution_count": null,
   "id": "competitive-matter",
   "metadata": {},
   "outputs": [
    {
     "data": {
      "text/plain": [
       "array([1.+0.j, 0.+0.j])"
      ]
     },
     "execution_count": null,
     "metadata": {},
     "output_type": "execute_result"
    }
   ],
   "source": [
    "psi0_ndarray"
   ]
  },
  {
   "cell_type": "code",
   "execution_count": null,
   "id": "general-international",
   "metadata": {},
   "outputs": [
    {
     "data": {
      "text/plain": [
       "(2,)"
      ]
     },
     "execution_count": null,
     "metadata": {},
     "output_type": "execute_result"
    }
   ],
   "source": [
    "psi0_ndarray.shape"
   ]
  },
  {
   "cell_type": "code",
   "execution_count": null,
   "id": "complicated-auckland",
   "metadata": {},
   "outputs": [],
   "source": [
    "#export\n",
    "upsi = empty((2, u_series.shape[-1]), dtype=complex)\n",
    "for i in range(u_series.shape[-1]):\n",
    "    upsi[:, i] = u_series[:, :, i]@psi0_ndarray\n",
    "    "
   ]
  },
  {
   "cell_type": "code",
   "execution_count": null,
   "id": "educated-advisory",
   "metadata": {},
   "outputs": [
    {
     "data": {
      "text/plain": [
       "array([1.+0.j, 0.+0.j])"
      ]
     },
     "execution_count": null,
     "metadata": {},
     "output_type": "execute_result"
    }
   ],
   "source": [
    "upsi[:, 0]"
   ]
  },
  {
   "cell_type": "code",
   "execution_count": null,
   "id": "sealed-application",
   "metadata": {},
   "outputs": [
    {
     "data": {
      "text/latex": [
       "Quantum object: dims = [[2], [1]], shape = (2, 1), type = ket\\begin{equation*}\\left(\\begin{array}{*{11}c}1.0\\\\0.0\\\\\\end{array}\\night)\\end{equation*}"
      ],
      "text/plain": [
       "Quantum object: dims = [[2], [1]], shape = (2, 1), type = ket\n",
       "Qobj data =\n",
       "[[1.]\n",
       " [0.]]"
      ]
     },
     "execution_count": null,
     "metadata": {},
     "output_type": "execute_result"
    }
   ],
   "source": [
    "mere_result.states[0]"
   ]
  },
  {
   "cell_type": "code",
   "execution_count": null,
   "id": "wired-forty",
   "metadata": {},
   "outputs": [],
   "source": [
    "#export\n",
    "assert_allclose(upsi[:, 0], mere_result.states[0].full().ravel()) "
   ]
  },
  {
   "cell_type": "code",
   "execution_count": null,
   "id": "jewish-dakota",
   "metadata": {},
   "outputs": [],
   "source": [
    "#export\n",
    "for i in range(u_series.shape[-1]):\n",
    "    assert_allclose(upsi[:, i], mere_result.states[i].full().ravel(),\n",
    "                   rtol=1e-01, atol=1e-02) "
   ]
  },
  {
   "cell_type": "code",
   "execution_count": null,
   "id": "proof-invitation",
   "metadata": {},
   "outputs": [],
   "source": [
    "#export\n",
    "for i in range(u_series.shape[-1]):\n",
    "    assert_allclose(upsi[:, i], mere_result.states[i].full().ravel(),\n",
    "                   rtol=1e-07, atol=1e-02) "
   ]
  },
  {
   "cell_type": "code",
   "execution_count": null,
   "id": "complimentary-intensity",
   "metadata": {},
   "outputs": [],
   "source": [
    "#export\n",
    "for i in range(u_series.shape[-1]):\n",
    "    assert_allclose(upsi[:, i], mere_result.states[i].full().ravel(),\n",
    "                   rtol=1e-08, atol=1e-02) "
   ]
  },
  {
   "cell_type": "markdown",
   "id": "thermal-action",
   "metadata": {},
   "source": [
    "---------------------------------------------------------------------------\n",
    "AssertionError                            Traceback (most recent call last)\n",
    "<ipython-input-101-486ddf98e48b> in <module>\n",
    "      1 for i in range(u_series.shape[-1]):\n",
    "----> 2     assert_allclose(upsi[:, i], mere_result.states[i].full().ravel(),\n",
    "      3                    rtol=1e-02, atol=1e-03) \n",
    "\n",
    "    [... skipping hidden 1 frame]\n",
    "\n",
    "~/anaconda3/envs/nbdev/lib/python3.8/site-packages/numpy/testing/_private/utils.py in assert_array_compare(comparison, x, y, err_msg, verbose, header, precision, equal_nan, equal_inf)\n",
    "    838                                 verbose=verbose, header=header,\n",
    "    839                                 names=('x', 'y'), precision=precision)\n",
    "--> 840             raise AssertionError(msg)\n",
    "    841     except ValueError:\n",
    "    842         import traceback\n",
    "\n",
    "AssertionError: \n",
    "Not equal to tolerance rtol=0.01, atol=0.001\n",
    "\n",
    "Mismatched elements: 1 / 2 (50%)\n",
    "Max absolute difference: 0.00150303\n",
    "Max relative difference: 1084.59125754\n",
    " x: array([0.999917+0.j      , 0.      -0.001502j])\n",
    " y: array([1.+0.0000e+00j, 0.+1.3858e-06j])"
   ]
  },
  {
   "cell_type": "markdown",
   "id": "labeled-thursday",
   "metadata": {},
   "source": [
    "Fails for atol < 1e-02"
   ]
  },
  {
   "cell_type": "code",
   "execution_count": null,
   "id": "verified-plane",
   "metadata": {},
   "outputs": [
    {
     "name": "stdout",
     "output_type": "stream",
     "text": [
      "Converted 00_core.ipynb.\n",
      "Converted 01_reshape.ipynb.\n",
      "Converted 02_herm.ipynb.\n",
      "Converted 03_unitary.ipynb.\n",
      "Converted 04_tests.ipynb.\n",
      "Converted index.ipynb.\n"
     ]
    }
   ],
   "source": [
    "notebook2script()"
   ]
  },
  {
   "cell_type": "code",
   "execution_count": null,
   "id": "administrative-small",
   "metadata": {},
   "outputs": [],
   "source": []
  }
 ],
 "metadata": {
  "kernelspec": {
   "display_name": "Python 3",
   "language": "python",
   "name": "python3"
  }
 },
 "nbformat": 4,
 "nbformat_minor": 5
}
