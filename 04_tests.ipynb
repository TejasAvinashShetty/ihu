{
 "cells": [
  {
   "cell_type": "code",
   "execution_count": null,
   "id": "informational-fluid",
   "metadata": {},
   "outputs": [],
   "source": [
    "# default_exp 04_tests"
   ]
  },
  {
   "cell_type": "code",
   "execution_count": null,
   "id": "suburban-qualification",
   "metadata": {},
   "outputs": [
    {
     "name": "stdout",
     "output_type": "stream",
     "text": [
      "The autoreload extension is already loaded. To reload it, use:\n",
      "  %reload_ext autoreload\n"
     ]
    }
   ],
   "source": [
    "#hide\n",
    "%load_ext autoreload\n",
    "%autoreload 2\n",
    "from nbdev.export import notebook2script"
   ]
  },
  {
   "cell_type": "code",
   "execution_count": null,
   "id": "instrumental-interstate",
   "metadata": {},
   "outputs": [],
   "source": [
    "#export\n",
    "from numpy.random import random_sample\n",
    "from numpy import array, identity, zeros, linspace, pi, empty\n",
    "from numpy.testing import assert_allclose\n",
    "from qutip import mesolve\n",
    "from qutip import basis\n",
    "from qutip import sigmax, sigmay, sigmaz, qeye\n",
    "from qutip.ui.progressbar import BaseProgressBar, TextProgressBar\n",
    "from math import sin, cos\n",
    "from ihu.core import ihu, y_der, check_for_stupidity\n",
    "from ihu.herm import rand_herm_ndarray, test_herm_ndarray\n",
    "from ihu.unitary import rand_unitary_ndarray, test_unitary_ndarray"
   ]
  },
  {
   "cell_type": "markdown",
   "id": "photographic-atlantic",
   "metadata": {},
   "source": [
    "# Independent tests"
   ]
  },
  {
   "cell_type": "markdown",
   "id": "sustained-mediterranean",
   "metadata": {},
   "source": [
    "## zero Hamiltonian with identity unitary"
   ]
  },
  {
   "cell_type": "code",
   "execution_count": null,
   "id": "collective-colorado",
   "metadata": {},
   "outputs": [],
   "source": [
    "#export\n",
    "def zero_ham(t):\n",
    "    zerodha = zeros((2,2), dtype=complex)\n",
    "    return zerodha"
   ]
  },
  {
   "cell_type": "code",
   "execution_count": null,
   "id": "formed-console",
   "metadata": {},
   "outputs": [
    {
     "data": {
      "text/plain": [
       "array([[0.+0.j, 0.+0.j],\n",
       "       [0.+0.j, 0.+0.j]])"
      ]
     },
     "execution_count": null,
     "metadata": {},
     "output_type": "execute_result"
    }
   ],
   "source": [
    "zero_ham(3)"
   ]
  },
  {
   "cell_type": "code",
   "execution_count": null,
   "id": "occupational-andorra",
   "metadata": {},
   "outputs": [
    {
     "data": {
      "text/plain": [
       "dtype('complex128')"
      ]
     },
     "execution_count": null,
     "metadata": {},
     "output_type": "execute_result"
    }
   ],
   "source": [
    "zero_ham(3).dtype"
   ]
  },
  {
   "cell_type": "code",
   "execution_count": null,
   "id": "chicken-boutique",
   "metadata": {},
   "outputs": [],
   "source": [
    "#export\n",
    "# u0 = rand_unitary_ndarray((2,2))\n",
    "u0 = array([[1.+0.j, 0.+0.j],\n",
    "           [0.+0.j, 1.+0.j]])\n",
    "evolution_time = 5\n",
    "no_time_step_for_eval = 100"
   ]
  },
  {
   "cell_type": "code",
   "execution_count": null,
   "id": "dying-orange",
   "metadata": {},
   "outputs": [
    {
     "data": {
      "text/plain": [
       "array([[1.+0.j, 0.+0.j],\n",
       "       [0.+0.j, 1.+0.j]])"
      ]
     },
     "execution_count": null,
     "metadata": {},
     "output_type": "execute_result"
    }
   ],
   "source": [
    "u0"
   ]
  },
  {
   "cell_type": "markdown",
   "id": "dependent-elder",
   "metadata": {},
   "source": [
    "u_series, result = ihu(ham_func, u0, T, no_time_step_for_eval,)"
   ]
  },
  {
   "cell_type": "code",
   "execution_count": null,
   "id": "level-proposition",
   "metadata": {},
   "outputs": [
    {
     "name": "stdout",
     "output_type": "stream",
     "text": [
      "The solver successfully reached the end of the integration interval.\n"
     ]
    }
   ],
   "source": [
    "#export\n",
    "u_series, result = ihu(zero_ham, u0, evolution_time, \n",
    "                       no_time_step_for_eval,)"
   ]
  },
  {
   "cell_type": "code",
   "execution_count": null,
   "id": "final-virus",
   "metadata": {},
   "outputs": [
    {
     "data": {
      "text/plain": [
       "(2, 2, 100)"
      ]
     },
     "execution_count": null,
     "metadata": {},
     "output_type": "execute_result"
    }
   ],
   "source": [
    "u_series.shape"
   ]
  },
  {
   "cell_type": "code",
   "execution_count": null,
   "id": "demonstrated-straight",
   "metadata": {},
   "outputs": [
    {
     "data": {
      "text/plain": [
       "array([[1.+0.j, 0.+0.j],\n",
       "       [0.+0.j, 1.+0.j]])"
      ]
     },
     "execution_count": null,
     "metadata": {},
     "output_type": "execute_result"
    }
   ],
   "source": [
    "u_series[:, :, 0]"
   ]
  },
  {
   "cell_type": "code",
   "execution_count": null,
   "id": "complete-strip",
   "metadata": {},
   "outputs": [
    {
     "data": {
      "text/plain": [
       "array([[1.+0.j, 0.+0.j],\n",
       "       [0.+0.j, 1.+0.j]])"
      ]
     },
     "execution_count": null,
     "metadata": {},
     "output_type": "execute_result"
    }
   ],
   "source": [
    "u_series[:, :, -1]"
   ]
  },
  {
   "cell_type": "code",
   "execution_count": null,
   "id": "sapphire-vulnerability",
   "metadata": {},
   "outputs": [
    {
     "data": {
      "text/plain": [
       "array([[0.+0.j, 0.+0.j],\n",
       "       [0.+0.j, 0.+0.j]])"
      ]
     },
     "execution_count": null,
     "metadata": {},
     "output_type": "execute_result"
    }
   ],
   "source": [
    "-1j*zero_ham(3)@u0"
   ]
  },
  {
   "cell_type": "code",
   "execution_count": null,
   "id": "extended-spirituality",
   "metadata": {},
   "outputs": [],
   "source": [
    "#export\n",
    "assert_allclose(u_series[:, :, -1], u0)"
   ]
  },
  {
   "cell_type": "code",
   "execution_count": null,
   "id": "split-corner",
   "metadata": {},
   "outputs": [],
   "source": [
    "#export\n",
    "for i in range(u_series.shape[-1]):\n",
    "    assert_allclose(u_series[:, :, i], u0)"
   ]
  },
  {
   "cell_type": "markdown",
   "id": "seven-scope",
   "metadata": {},
   "source": [
    "## zero Hamiltonian"
   ]
  },
  {
   "cell_type": "code",
   "execution_count": null,
   "id": "through-advantage",
   "metadata": {},
   "outputs": [],
   "source": [
    "#export\n",
    "def zero_ham(t):\n",
    "    zerodha = zeros((2,2), dtype=complex)\n",
    "    return zerodha"
   ]
  },
  {
   "cell_type": "code",
   "execution_count": null,
   "id": "identified-continent",
   "metadata": {},
   "outputs": [
    {
     "data": {
      "text/plain": [
       "array([[0.+0.j, 0.+0.j],\n",
       "       [0.+0.j, 0.+0.j]])"
      ]
     },
     "execution_count": null,
     "metadata": {},
     "output_type": "execute_result"
    }
   ],
   "source": [
    "zero_ham(3)"
   ]
  },
  {
   "cell_type": "code",
   "execution_count": null,
   "id": "comfortable-package",
   "metadata": {},
   "outputs": [
    {
     "data": {
      "text/plain": [
       "dtype('complex128')"
      ]
     },
     "execution_count": null,
     "metadata": {},
     "output_type": "execute_result"
    }
   ],
   "source": [
    "zero_ham(3).dtype"
   ]
  },
  {
   "cell_type": "code",
   "execution_count": null,
   "id": "identified-description",
   "metadata": {},
   "outputs": [],
   "source": [
    "#export\n",
    "u0 = rand_unitary_ndarray((2,2))\n",
    "#u0 = array([[1.+0.j, 0.+0.j],\n",
    "#           [0.+0.j, 1.+0.j]])\n",
    "evolution_time = 5\n",
    "no_time_step_for_eval = 100"
   ]
  },
  {
   "cell_type": "code",
   "execution_count": null,
   "id": "regulation-origin",
   "metadata": {},
   "outputs": [
    {
     "data": {
      "text/plain": [
       "array([[0.99983341+0.01825229j, 0.        +0.j        ],\n",
       "       [0.        +0.j        , 0.57310325-0.81948317j]])"
      ]
     },
     "execution_count": null,
     "metadata": {},
     "output_type": "execute_result"
    }
   ],
   "source": [
    "u0"
   ]
  },
  {
   "cell_type": "markdown",
   "id": "attempted-speed",
   "metadata": {},
   "source": [
    "u_series, result = ihu(ham_func, u0, T, no_time_step_for_eval,)"
   ]
  },
  {
   "cell_type": "code",
   "execution_count": null,
   "id": "conventional-nothing",
   "metadata": {},
   "outputs": [
    {
     "name": "stdout",
     "output_type": "stream",
     "text": [
      "The solver successfully reached the end of the integration interval.\n"
     ]
    }
   ],
   "source": [
    "#export\n",
    "u_series, result = ihu(zero_ham, u0, evolution_time, \n",
    "                       no_time_step_for_eval,)"
   ]
  },
  {
   "cell_type": "code",
   "execution_count": null,
   "id": "dietary-sullivan",
   "metadata": {},
   "outputs": [
    {
     "data": {
      "text/plain": [
       "(2, 2, 100)"
      ]
     },
     "execution_count": null,
     "metadata": {},
     "output_type": "execute_result"
    }
   ],
   "source": [
    "u_series.shape"
   ]
  },
  {
   "cell_type": "code",
   "execution_count": null,
   "id": "written-marina",
   "metadata": {},
   "outputs": [
    {
     "data": {
      "text/plain": [
       "array([[0.99983341+0.01825229j, 0.        +0.j        ],\n",
       "       [0.        +0.j        , 0.57310325-0.81948317j]])"
      ]
     },
     "execution_count": null,
     "metadata": {},
     "output_type": "execute_result"
    }
   ],
   "source": [
    "u_series[:, :, 0]"
   ]
  },
  {
   "cell_type": "code",
   "execution_count": null,
   "id": "hired-navigation",
   "metadata": {},
   "outputs": [
    {
     "data": {
      "text/plain": [
       "array([[0.99983341+0.01825229j, 0.        +0.j        ],\n",
       "       [0.        +0.j        , 0.57310325-0.81948317j]])"
      ]
     },
     "execution_count": null,
     "metadata": {},
     "output_type": "execute_result"
    }
   ],
   "source": [
    "u_series[:, :, -1]"
   ]
  },
  {
   "cell_type": "code",
   "execution_count": null,
   "id": "paperback-idaho",
   "metadata": {},
   "outputs": [
    {
     "data": {
      "text/plain": [
       "array([[0.+0.j, 0.+0.j],\n",
       "       [0.+0.j, 0.+0.j]])"
      ]
     },
     "execution_count": null,
     "metadata": {},
     "output_type": "execute_result"
    }
   ],
   "source": [
    "-1j*zero_ham(3)@u0"
   ]
  },
  {
   "cell_type": "code",
   "execution_count": null,
   "id": "integrated-commissioner",
   "metadata": {},
   "outputs": [],
   "source": [
    "#export\n",
    "assert_allclose(u_series[:, :, -1], u0)"
   ]
  },
  {
   "cell_type": "code",
   "execution_count": null,
   "id": "considered-typing",
   "metadata": {},
   "outputs": [],
   "source": [
    "#export\n",
    "for i in range(u_series.shape[-1]):\n",
    "    assert_allclose(u_series[:, :, i], u0)"
   ]
  },
  {
   "cell_type": "markdown",
   "id": "returning-bankruptcy",
   "metadata": {},
   "source": [
    "## Identity Hamiltonian"
   ]
  },
  {
   "cell_type": "code",
   "execution_count": null,
   "id": "continent-review",
   "metadata": {},
   "outputs": [],
   "source": [
    "#export\n",
    "def identity_ham(t):\n",
    "    iden = identity(2, dtype=complex)\n",
    "    return iden"
   ]
  },
  {
   "cell_type": "code",
   "execution_count": null,
   "id": "governmental-wedding",
   "metadata": {},
   "outputs": [
    {
     "data": {
      "text/plain": [
       "array([[1.+0.j, 0.+0.j],\n",
       "       [0.+0.j, 1.+0.j]])"
      ]
     },
     "execution_count": null,
     "metadata": {},
     "output_type": "execute_result"
    }
   ],
   "source": [
    "identity_ham(3)"
   ]
  },
  {
   "cell_type": "code",
   "execution_count": null,
   "id": "scenic-virginia",
   "metadata": {},
   "outputs": [
    {
     "data": {
      "text/plain": [
       "dtype('complex128')"
      ]
     },
     "execution_count": null,
     "metadata": {},
     "output_type": "execute_result"
    }
   ],
   "source": [
    "identity_ham(3).dtype"
   ]
  },
  {
   "cell_type": "code",
   "execution_count": null,
   "id": "increasing-chart",
   "metadata": {},
   "outputs": [],
   "source": [
    "#export\n",
    "u0 = rand_unitary_ndarray((2,2))\n",
    "evolution_time = 5\n",
    "no_time_step_for_eval = 100"
   ]
  },
  {
   "cell_type": "code",
   "execution_count": null,
   "id": "legal-speaking",
   "metadata": {},
   "outputs": [
    {
     "data": {
      "text/plain": [
       "array([[0.88472552+0.46611237j, 0.        +0.j        ],\n",
       "       [0.        +0.j        , 0.94667898-0.32217839j]])"
      ]
     },
     "execution_count": null,
     "metadata": {},
     "output_type": "execute_result"
    }
   ],
   "source": [
    "u0"
   ]
  },
  {
   "cell_type": "markdown",
   "id": "heated-traveler",
   "metadata": {},
   "source": [
    "u_series, result = ihu(ham_func, u0, T, no_time_step_for_eval,)"
   ]
  },
  {
   "cell_type": "code",
   "execution_count": null,
   "id": "immune-bangladesh",
   "metadata": {},
   "outputs": [
    {
     "name": "stdout",
     "output_type": "stream",
     "text": [
      "The solver successfully reached the end of the integration interval.\n"
     ]
    }
   ],
   "source": [
    "#export\n",
    "u_series, result = ihu(identity_ham, u0, evolution_time, \n",
    "                       no_time_step_for_eval,)"
   ]
  },
  {
   "cell_type": "code",
   "execution_count": null,
   "id": "tutorial-hungary",
   "metadata": {},
   "outputs": [
    {
     "data": {
      "text/plain": [
       "(2, 2, 100)"
      ]
     },
     "execution_count": null,
     "metadata": {},
     "output_type": "execute_result"
    }
   ],
   "source": [
    "u_series.shape"
   ]
  },
  {
   "cell_type": "code",
   "execution_count": null,
   "id": "respective-fireplace",
   "metadata": {},
   "outputs": [
    {
     "data": {
      "text/plain": [
       "array([[0.88472552+0.46611237j, 0.        +0.j        ],\n",
       "       [0.        +0.j        , 0.94667898-0.32217839j]])"
      ]
     },
     "execution_count": null,
     "metadata": {},
     "output_type": "execute_result"
    }
   ],
   "source": [
    "u_series[:, :, 0]"
   ]
  },
  {
   "cell_type": "code",
   "execution_count": null,
   "id": "advised-slovak",
   "metadata": {},
   "outputs": [
    {
     "data": {
      "text/plain": [
       "array([[-0.19440832+0.98090472j,  0.        +0.j        ],\n",
       "       [ 0.        +0.j        ,  0.57879704+0.81545243j]])"
      ]
     },
     "execution_count": null,
     "metadata": {},
     "output_type": "execute_result"
    }
   ],
   "source": [
    "u_series[:, :, -1]"
   ]
  },
  {
   "cell_type": "code",
   "execution_count": null,
   "id": "catholic-tournament",
   "metadata": {},
   "outputs": [
    {
     "data": {
      "text/plain": [
       "array([[ 0.46611237-0.88472552j,  0.        +0.j        ],\n",
       "       [ 0.        +0.j        , -0.32217839-0.94667898j]])"
      ]
     },
     "execution_count": null,
     "metadata": {},
     "output_type": "execute_result"
    }
   ],
   "source": [
    "-1j*identity_ham(3)@u0"
   ]
  },
  {
   "cell_type": "markdown",
   "id": "retired-uruguay",
   "metadata": {},
   "source": [
    "## Sigma xyz Hamiltonian"
   ]
  },
  {
   "cell_type": "markdown",
   "id": "becoming-permission",
   "metadata": {},
   "source": [
    "# Tests against mesolve of QuTiP"
   ]
  },
  {
   "cell_type": "code",
   "execution_count": null,
   "id": "satellite-alabama",
   "metadata": {},
   "outputs": [],
   "source": [
    "#export\n",
    "H = 2*pi*0.1*sigmax()"
   ]
  },
  {
   "cell_type": "code",
   "execution_count": null,
   "id": "exposed-injury",
   "metadata": {},
   "outputs": [],
   "source": [
    "#export\n",
    "psi0 = basis(2, 0)"
   ]
  },
  {
   "cell_type": "code",
   "execution_count": null,
   "id": "occupational-skirt",
   "metadata": {},
   "outputs": [],
   "source": [
    "#export\n",
    "times = linspace(0.0, 10, 20)"
   ]
  },
  {
   "cell_type": "code",
   "execution_count": null,
   "id": "chemical-pioneer",
   "metadata": {},
   "outputs": [],
   "source": [
    "#export\n",
    "mere_result = mesolve(H, psi0, times)"
   ]
  },
  {
   "cell_type": "code",
   "execution_count": null,
   "id": "direct-major",
   "metadata": {},
   "outputs": [
    {
     "data": {
      "text/plain": [
       "20"
      ]
     },
     "execution_count": null,
     "metadata": {},
     "output_type": "execute_result"
    }
   ],
   "source": [
    "len(mere_result.states)"
   ]
  },
  {
   "cell_type": "code",
   "execution_count": null,
   "id": "limiting-announcement",
   "metadata": {},
   "outputs": [],
   "source": [
    "#export\n",
    "def q_ham(t):\n",
    "    qutham = H.full()\n",
    "    return qutham"
   ]
  },
  {
   "cell_type": "code",
   "execution_count": null,
   "id": "mysterious-prescription",
   "metadata": {},
   "outputs": [
    {
     "data": {
      "text/plain": [
       "array([[0.        +0.j, 0.62831853+0.j],\n",
       "       [0.62831853+0.j, 0.        +0.j]])"
      ]
     },
     "execution_count": null,
     "metadata": {},
     "output_type": "execute_result"
    }
   ],
   "source": [
    "q_ham(2)"
   ]
  },
  {
   "cell_type": "code",
   "execution_count": null,
   "id": "graphic-wages",
   "metadata": {},
   "outputs": [],
   "source": [
    "#export\n",
    "u0 = identity(2, dtype=complex)\n",
    "evolution_time = 10\n",
    "no_time_step_for_eval = 20"
   ]
  },
  {
   "cell_type": "code",
   "execution_count": null,
   "id": "square-recipe",
   "metadata": {},
   "outputs": [
    {
     "data": {
      "text/plain": [
       "array([[1.+0.j, 0.+0.j],\n",
       "       [0.+0.j, 1.+0.j]])"
      ]
     },
     "execution_count": null,
     "metadata": {},
     "output_type": "execute_result"
    }
   ],
   "source": [
    "u0"
   ]
  },
  {
   "cell_type": "markdown",
   "id": "classified-burke",
   "metadata": {},
   "source": [
    "u_series, result = ihu(ham_func, u0, T, no_time_step_for_eval,)"
   ]
  },
  {
   "cell_type": "code",
   "execution_count": null,
   "id": "indirect-monroe",
   "metadata": {},
   "outputs": [
    {
     "name": "stdout",
     "output_type": "stream",
     "text": [
      "The solver successfully reached the end of the integration interval.\n"
     ]
    }
   ],
   "source": [
    "#export\n",
    "u_series, result = ihu(q_ham, u0, evolution_time, \n",
    "                       no_time_step_for_eval,)"
   ]
  },
  {
   "cell_type": "code",
   "execution_count": null,
   "id": "subject-trustee",
   "metadata": {},
   "outputs": [
    {
     "data": {
      "text/plain": [
       "(2, 2, 20)"
      ]
     },
     "execution_count": null,
     "metadata": {},
     "output_type": "execute_result"
    }
   ],
   "source": [
    "u_series.shape"
   ]
  },
  {
   "cell_type": "code",
   "execution_count": null,
   "id": "blocked-focus",
   "metadata": {},
   "outputs": [],
   "source": [
    "#export\n",
    "psi0_ndarray = psi0.full().ravel()"
   ]
  },
  {
   "cell_type": "code",
   "execution_count": null,
   "id": "outer-preference",
   "metadata": {},
   "outputs": [
    {
     "data": {
      "text/plain": [
       "array([1.+0.j, 0.+0.j])"
      ]
     },
     "execution_count": null,
     "metadata": {},
     "output_type": "execute_result"
    }
   ],
   "source": [
    "psi0_ndarray"
   ]
  },
  {
   "cell_type": "code",
   "execution_count": null,
   "id": "square-newman",
   "metadata": {},
   "outputs": [
    {
     "data": {
      "text/plain": [
       "(2,)"
      ]
     },
     "execution_count": null,
     "metadata": {},
     "output_type": "execute_result"
    }
   ],
   "source": [
    "psi0_ndarray.shape"
   ]
  },
  {
   "cell_type": "code",
   "execution_count": null,
   "id": "early-distributor",
   "metadata": {},
   "outputs": [],
   "source": [
    "#export\n",
    "upsi = empty((2, u_series.shape[-1]), dtype=complex)\n",
    "for i in range(u_series.shape[-1]):\n",
    "    upsi[:, i] = u_series[:, :, i]@psi0_ndarray\n",
    "    "
   ]
  },
  {
   "cell_type": "code",
   "execution_count": null,
   "id": "cardiac-plymouth",
   "metadata": {},
   "outputs": [
    {
     "data": {
      "text/plain": [
       "array([1.+0.j, 0.+0.j])"
      ]
     },
     "execution_count": null,
     "metadata": {},
     "output_type": "execute_result"
    }
   ],
   "source": [
    "upsi[:, 0]"
   ]
  },
  {
   "cell_type": "code",
   "execution_count": null,
   "id": "unable-switzerland",
   "metadata": {},
   "outputs": [
    {
     "data": {
      "text/latex": [
       "Quantum object: dims = [[2], [1]], shape = (2, 1), type = ket\\begin{equation*}\\left(\\begin{array}{*{11}c}1.0\\\\0.0\\\\\\end{array}\\night)\\end{equation*}"
      ],
      "text/plain": [
       "Quantum object: dims = [[2], [1]], shape = (2, 1), type = ket\n",
       "Qobj data =\n",
       "[[1.]\n",
       " [0.]]"
      ]
     },
     "execution_count": null,
     "metadata": {},
     "output_type": "execute_result"
    }
   ],
   "source": [
    "mere_result.states[0]"
   ]
  },
  {
   "cell_type": "code",
   "execution_count": null,
   "id": "former-period",
   "metadata": {},
   "outputs": [],
   "source": [
    "#export\n",
    "assert_allclose(upsi[:, 0], mere_result.states[0].full().ravel()) "
   ]
  },
  {
   "cell_type": "code",
   "execution_count": null,
   "id": "included-economics",
   "metadata": {},
   "outputs": [],
   "source": [
    "#export\n",
    "for i in range(u_series.shape[-1]):\n",
    "    assert_allclose(upsi[:, i], mere_result.states[i].full().ravel(),\n",
    "                   rtol=1e-01, atol=1e-02) "
   ]
  },
  {
   "cell_type": "code",
   "execution_count": null,
   "id": "wrapped-rental",
   "metadata": {},
   "outputs": [],
   "source": [
    "#export\n",
    "for i in range(u_series.shape[-1]):\n",
    "    assert_allclose(upsi[:, i], mere_result.states[i].full().ravel(),\n",
    "                   rtol=1e-07, atol=1e-02) "
   ]
  },
  {
   "cell_type": "code",
   "execution_count": null,
   "id": "indian-blind",
   "metadata": {},
   "outputs": [],
   "source": [
    "#export\n",
    "for i in range(u_series.shape[-1]):\n",
    "    assert_allclose(upsi[:, i], mere_result.states[i].full().ravel(),\n",
    "                   rtol=1e-08, atol=1e-02) "
   ]
  },
  {
   "cell_type": "markdown",
   "id": "controlled-migration",
   "metadata": {},
   "source": [
    "---------------------------------------------------------------------------\n",
    "AssertionError                            Traceback (most recent call last)\n",
    "<ipython-input-101-486ddf98e48b> in <module>\n",
    "      1 for i in range(u_series.shape[-1]):\n",
    "----> 2     assert_allclose(upsi[:, i], mere_result.states[i].full().ravel(),\n",
    "      3                    rtol=1e-02, atol=1e-03) \n",
    "\n",
    "    [... skipping hidden 1 frame]\n",
    "\n",
    "~/anaconda3/envs/nbdev/lib/python3.8/site-packages/numpy/testing/_private/utils.py in assert_array_compare(comparison, x, y, err_msg, verbose, header, precision, equal_nan, equal_inf)\n",
    "    838                                 verbose=verbose, header=header,\n",
    "    839                                 names=('x', 'y'), precision=precision)\n",
    "--> 840             raise AssertionError(msg)\n",
    "    841     except ValueError:\n",
    "    842         import traceback\n",
    "\n",
    "AssertionError: \n",
    "Not equal to tolerance rtol=0.01, atol=0.001\n",
    "\n",
    "Mismatched elements: 1 / 2 (50%)\n",
    "Max absolute difference: 0.00150303\n",
    "Max relative difference: 1084.59125754\n",
    " x: array([0.999917+0.j      , 0.      -0.001502j])\n",
    " y: array([1.+0.0000e+00j, 0.+1.3858e-06j])"
   ]
  },
  {
   "cell_type": "markdown",
   "id": "alternate-whale",
   "metadata": {},
   "source": [
    "Fails for atol < 1e-02"
   ]
  },
  {
   "cell_type": "code",
   "execution_count": null,
   "id": "verified-plane",
   "metadata": {},
   "outputs": [
    {
     "name": "stdout",
     "output_type": "stream",
     "text": [
      "Converted 00_core.ipynb.\n",
      "Converted 01_reshape.ipynb.\n",
      "Converted 02_herm.ipynb.\n",
      "Converted 03_unitary.ipynb.\n",
      "Converted 04_tests.ipynb.\n",
      "Converted index.ipynb.\n"
     ]
    }
   ],
   "source": [
    "notebook2script()"
   ]
  },
  {
   "cell_type": "code",
   "execution_count": null,
   "id": "interstate-pulse",
   "metadata": {},
   "outputs": [],
   "source": []
  }
 ],
 "metadata": {
  "kernelspec": {
   "display_name": "Python 3",
   "language": "python",
   "name": "python3"
  }
 },
 "nbformat": 4,
 "nbformat_minor": 5
}
