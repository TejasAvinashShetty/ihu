{
 "cells": [
  {
   "cell_type": "code",
   "execution_count": null,
   "id": "informational-fluid",
   "metadata": {},
   "outputs": [],
   "source": [
    "# default_exp 04_tests"
   ]
  },
  {
   "cell_type": "code",
   "execution_count": null,
   "id": "suburban-qualification",
   "metadata": {},
   "outputs": [],
   "source": [
    "#hide\n",
    "%load_ext autoreload\n",
    "%autoreload 2\n",
    "from nbdev.export import notebook2script"
   ]
  },
  {
   "cell_type": "code",
   "execution_count": null,
   "id": "instrumental-interstate",
   "metadata": {},
   "outputs": [],
   "source": [
    "#export\n",
    "from numpy.random import random_sample\n",
    "from numpy import array, identity, zeros, linspace, pi, empty\n",
    "from numpy.testing import assert_allclose\n",
    "from qutip import mesolve\n",
    "from qutip import basis\n",
    "from qutip import sigmax, sigmay, sigmaz, qeye\n",
    "from qutip.ui.progressbar import BaseProgressBar, TextProgressBar\n",
    "from math import sin, cos\n",
    "from ihu.core import ihu, y_der, check_for_stupidity\n",
    "from ihu.herm import rand_herm_ndarray, test_herm_ndarray\n",
    "from ihu.unitary import rand_unitary_ndarray, test_unitary_ndarray"
   ]
  },
  {
   "cell_type": "markdown",
   "id": "educational-choir",
   "metadata": {},
   "source": [
    "# Independent tests"
   ]
  },
  {
   "cell_type": "markdown",
   "id": "sunrise-nation",
   "metadata": {},
   "source": [
    "## zero Hamiltonian with identity unitary"
   ]
  },
  {
   "cell_type": "code",
   "execution_count": null,
   "id": "irish-understanding",
   "metadata": {},
   "outputs": [],
   "source": [
    "#export\n",
    "def zero_ham(t):\n",
    "    zerodha = zeros((2,2), dtype=complex)\n",
    "    return zerodha"
   ]
  },
  {
   "cell_type": "code",
   "execution_count": null,
   "id": "internal-ideal",
   "metadata": {},
   "outputs": [
    {
     "data": {
      "text/plain": [
       "array([[0.+0.j, 0.+0.j],\n",
       "       [0.+0.j, 0.+0.j]])"
      ]
     },
     "execution_count": null,
     "metadata": {},
     "output_type": "execute_result"
    }
   ],
   "source": [
    "zero_ham(3)"
   ]
  },
  {
   "cell_type": "code",
   "execution_count": null,
   "id": "alpine-canyon",
   "metadata": {},
   "outputs": [
    {
     "data": {
      "text/plain": [
       "dtype('complex128')"
      ]
     },
     "execution_count": null,
     "metadata": {},
     "output_type": "execute_result"
    }
   ],
   "source": [
    "zero_ham(3).dtype"
   ]
  },
  {
   "cell_type": "code",
   "execution_count": null,
   "id": "stopped-reply",
   "metadata": {},
   "outputs": [],
   "source": [
    "#export\n",
    "# u0 = rand_unitary_ndarray((2,2))\n",
    "u0 = array([[1.+0.j, 0.+0.j],\n",
    "           [0.+0.j, 1.+0.j]])\n",
    "evolution_time = 5\n",
    "no_time_step_for_eval = 100"
   ]
  },
  {
   "cell_type": "code",
   "execution_count": null,
   "id": "interested-nomination",
   "metadata": {},
   "outputs": [
    {
     "data": {
      "text/plain": [
       "array([[1.+0.j, 0.+0.j],\n",
       "       [0.+0.j, 1.+0.j]])"
      ]
     },
     "execution_count": null,
     "metadata": {},
     "output_type": "execute_result"
    }
   ],
   "source": [
    "u0"
   ]
  },
  {
   "cell_type": "markdown",
   "id": "corresponding-russian",
   "metadata": {},
   "source": [
    "u_series, result = ihu(ham_func, u0, T, no_time_step_for_eval,)"
   ]
  },
  {
   "cell_type": "code",
   "execution_count": null,
   "id": "regulation-ladder",
   "metadata": {},
   "outputs": [
    {
     "name": "stdout",
     "output_type": "stream",
     "text": [
      "The solver successfully reached the end of the integration interval.\n"
     ]
    }
   ],
   "source": [
    "#export\n",
    "u_series, result = ihu(zero_ham, u0, evolution_time, \n",
    "                       no_time_step_for_eval,)"
   ]
  },
  {
   "cell_type": "code",
   "execution_count": null,
   "id": "tutorial-treaty",
   "metadata": {},
   "outputs": [
    {
     "data": {
      "text/plain": [
       "(2, 2, 100)"
      ]
     },
     "execution_count": null,
     "metadata": {},
     "output_type": "execute_result"
    }
   ],
   "source": [
    "u_series.shape"
   ]
  },
  {
   "cell_type": "code",
   "execution_count": null,
   "id": "suspended-movement",
   "metadata": {},
   "outputs": [
    {
     "data": {
      "text/plain": [
       "array([[1.+0.j, 0.+0.j],\n",
       "       [0.+0.j, 1.+0.j]])"
      ]
     },
     "execution_count": null,
     "metadata": {},
     "output_type": "execute_result"
    }
   ],
   "source": [
    "u_series[:, :, 0]"
   ]
  },
  {
   "cell_type": "code",
   "execution_count": null,
   "id": "vital-greek",
   "metadata": {},
   "outputs": [
    {
     "data": {
      "text/plain": [
       "array([[1.+0.j, 0.+0.j],\n",
       "       [0.+0.j, 1.+0.j]])"
      ]
     },
     "execution_count": null,
     "metadata": {},
     "output_type": "execute_result"
    }
   ],
   "source": [
    "u_series[:, :, -1]"
   ]
  },
  {
   "cell_type": "code",
   "execution_count": null,
   "id": "outstanding-emperor",
   "metadata": {},
   "outputs": [
    {
     "data": {
      "text/plain": [
       "array([[0.+0.j, 0.+0.j],\n",
       "       [0.+0.j, 0.+0.j]])"
      ]
     },
     "execution_count": null,
     "metadata": {},
     "output_type": "execute_result"
    }
   ],
   "source": [
    "-1j*zero_ham(3)@u0"
   ]
  },
  {
   "cell_type": "code",
   "execution_count": null,
   "id": "regular-television",
   "metadata": {},
   "outputs": [],
   "source": [
    "#export\n",
    "assert_allclose(u_series[:, :, -1], u0)"
   ]
  },
  {
   "cell_type": "code",
   "execution_count": null,
   "id": "victorian-future",
   "metadata": {},
   "outputs": [],
   "source": [
    "#export\n",
    "for i in range(u_series.shape[-1]):\n",
    "    assert_allclose(u_series[:, :, i], u0)"
   ]
  },
  {
   "cell_type": "markdown",
   "id": "after-commerce",
   "metadata": {},
   "source": [
    "## zero Hamiltonian"
   ]
  },
  {
   "cell_type": "code",
   "execution_count": null,
   "id": "printable-preserve",
   "metadata": {},
   "outputs": [],
   "source": [
    "#export\n",
    "def zero_ham(t):\n",
    "    zerodha = zeros((2,2), dtype=complex)\n",
    "    return zerodha"
   ]
  },
  {
   "cell_type": "code",
   "execution_count": null,
   "id": "sufficient-archives",
   "metadata": {},
   "outputs": [
    {
     "data": {
      "text/plain": [
       "array([[0.+0.j, 0.+0.j],\n",
       "       [0.+0.j, 0.+0.j]])"
      ]
     },
     "execution_count": null,
     "metadata": {},
     "output_type": "execute_result"
    }
   ],
   "source": [
    "zero_ham(3)"
   ]
  },
  {
   "cell_type": "code",
   "execution_count": null,
   "id": "eleven-possible",
   "metadata": {},
   "outputs": [
    {
     "data": {
      "text/plain": [
       "dtype('complex128')"
      ]
     },
     "execution_count": null,
     "metadata": {},
     "output_type": "execute_result"
    }
   ],
   "source": [
    "zero_ham(3).dtype"
   ]
  },
  {
   "cell_type": "code",
   "execution_count": null,
   "id": "southern-italy",
   "metadata": {},
   "outputs": [],
   "source": [
    "#export\n",
    "u0 = rand_unitary_ndarray((2,2))\n",
    "#u0 = array([[1.+0.j, 0.+0.j],\n",
    "#           [0.+0.j, 1.+0.j]])\n",
    "evolution_time = 5\n",
    "no_time_step_for_eval = 100"
   ]
  },
  {
   "cell_type": "code",
   "execution_count": null,
   "id": "reported-antique",
   "metadata": {},
   "outputs": [
    {
     "data": {
      "text/plain": [
       "array([[0.58985728-0.80750751j, 0.        +0.j        ],\n",
       "       [0.        +0.j        , 0.86266252+0.50577997j]])"
      ]
     },
     "execution_count": null,
     "metadata": {},
     "output_type": "execute_result"
    }
   ],
   "source": [
    "u0"
   ]
  },
  {
   "cell_type": "markdown",
   "id": "small-stake",
   "metadata": {},
   "source": [
    "u_series, result = ihu(ham_func, u0, T, no_time_step_for_eval,)"
   ]
  },
  {
   "cell_type": "code",
   "execution_count": null,
   "id": "daily-richards",
   "metadata": {},
   "outputs": [
    {
     "name": "stdout",
     "output_type": "stream",
     "text": [
      "The solver successfully reached the end of the integration interval.\n"
     ]
    }
   ],
   "source": [
    "#export\n",
    "u_series, result = ihu(zero_ham, u0, evolution_time, \n",
    "                       no_time_step_for_eval,)"
   ]
  },
  {
   "cell_type": "code",
   "execution_count": null,
   "id": "approximate-cooler",
   "metadata": {},
   "outputs": [
    {
     "data": {
      "text/plain": [
       "(2, 2, 100)"
      ]
     },
     "execution_count": null,
     "metadata": {},
     "output_type": "execute_result"
    }
   ],
   "source": [
    "u_series.shape"
   ]
  },
  {
   "cell_type": "code",
   "execution_count": null,
   "id": "institutional-crest",
   "metadata": {},
   "outputs": [
    {
     "data": {
      "text/plain": [
       "array([[0.58985728-0.80750751j, 0.        +0.j        ],\n",
       "       [0.        +0.j        , 0.86266252+0.50577997j]])"
      ]
     },
     "execution_count": null,
     "metadata": {},
     "output_type": "execute_result"
    }
   ],
   "source": [
    "u_series[:, :, 0]"
   ]
  },
  {
   "cell_type": "code",
   "execution_count": null,
   "id": "integral-decade",
   "metadata": {},
   "outputs": [
    {
     "data": {
      "text/plain": [
       "array([[0.58985728-0.80750751j, 0.        +0.j        ],\n",
       "       [0.        +0.j        , 0.86266252+0.50577997j]])"
      ]
     },
     "execution_count": null,
     "metadata": {},
     "output_type": "execute_result"
    }
   ],
   "source": [
    "u_series[:, :, -1]"
   ]
  },
  {
   "cell_type": "code",
   "execution_count": null,
   "id": "inappropriate-edition",
   "metadata": {},
   "outputs": [
    {
     "data": {
      "text/plain": [
       "array([[0.+0.j, 0.+0.j],\n",
       "       [0.+0.j, 0.+0.j]])"
      ]
     },
     "execution_count": null,
     "metadata": {},
     "output_type": "execute_result"
    }
   ],
   "source": [
    "-1j*zero_ham(3)@u0"
   ]
  },
  {
   "cell_type": "code",
   "execution_count": null,
   "id": "facial-ratio",
   "metadata": {},
   "outputs": [],
   "source": [
    "#export\n",
    "assert_allclose(u_series[:, :, -1], u0)"
   ]
  },
  {
   "cell_type": "code",
   "execution_count": null,
   "id": "creative-swedish",
   "metadata": {},
   "outputs": [],
   "source": [
    "#export\n",
    "for i in range(u_series.shape[-1]):\n",
    "    assert_allclose(u_series[:, :, i], u0)"
   ]
  },
  {
   "cell_type": "markdown",
   "id": "returning-bankruptcy",
   "metadata": {},
   "source": [
    "## Identity Hamiltonian"
   ]
  },
  {
   "cell_type": "code",
   "execution_count": null,
   "id": "continent-review",
   "metadata": {},
   "outputs": [],
   "source": [
    "#export\n",
    "def identity_ham(t):\n",
    "    iden = identity(2, dtype=complex)\n",
    "    return iden"
   ]
  },
  {
   "cell_type": "code",
   "execution_count": null,
   "id": "medical-retention",
   "metadata": {},
   "outputs": [
    {
     "data": {
      "text/plain": [
       "array([[1.+0.j, 0.+0.j],\n",
       "       [0.+0.j, 1.+0.j]])"
      ]
     },
     "execution_count": null,
     "metadata": {},
     "output_type": "execute_result"
    }
   ],
   "source": [
    "identity_ham(3)"
   ]
  },
  {
   "cell_type": "code",
   "execution_count": null,
   "id": "lasting-conversation",
   "metadata": {},
   "outputs": [
    {
     "data": {
      "text/plain": [
       "dtype('complex128')"
      ]
     },
     "execution_count": null,
     "metadata": {},
     "output_type": "execute_result"
    }
   ],
   "source": [
    "identity_ham(3).dtype"
   ]
  },
  {
   "cell_type": "code",
   "execution_count": null,
   "id": "adaptive-marsh",
   "metadata": {},
   "outputs": [],
   "source": [
    "#export\n",
    "u0 = rand_unitary_ndarray((2,2))\n",
    "evolution_time = 5\n",
    "no_time_step_for_eval = 100"
   ]
  },
  {
   "cell_type": "code",
   "execution_count": null,
   "id": "democratic-billion",
   "metadata": {},
   "outputs": [
    {
     "data": {
      "text/plain": [
       "array([[ 0.64935808-0.65729507j,  0.07780142-0.37449195j],\n",
       "       [-0.3165354 -0.21471521j,  0.92374586+0.01990742j]])"
      ]
     },
     "execution_count": null,
     "metadata": {},
     "output_type": "execute_result"
    }
   ],
   "source": [
    "u0"
   ]
  },
  {
   "cell_type": "markdown",
   "id": "employed-official",
   "metadata": {},
   "source": [
    "u_series, result = ihu(ham_func, u0, T, no_time_step_for_eval,)"
   ]
  },
  {
   "cell_type": "code",
   "execution_count": null,
   "id": "unnecessary-silence",
   "metadata": {},
   "outputs": [
    {
     "name": "stdout",
     "output_type": "stream",
     "text": [
      "The solver successfully reached the end of the integration interval.\n"
     ]
    }
   ],
   "source": [
    "u_series, result = ihu(identity_ham, u0, evolution_time, \n",
    "                       no_time_step_for_eval,)"
   ]
  },
  {
   "cell_type": "code",
   "execution_count": null,
   "id": "dirty-split",
   "metadata": {},
   "outputs": [
    {
     "data": {
      "text/plain": [
       "(2, 2, 100)"
      ]
     },
     "execution_count": null,
     "metadata": {},
     "output_type": "execute_result"
    }
   ],
   "source": [
    "u_series.shape"
   ]
  },
  {
   "cell_type": "code",
   "execution_count": null,
   "id": "black-laptop",
   "metadata": {},
   "outputs": [
    {
     "data": {
      "text/plain": [
       "array([[ 0.64935808-0.65729507j,  0.07780142-0.37449195j],\n",
       "       [-0.3165354 -0.21471521j,  0.92374586+0.01990742j]])"
      ]
     },
     "execution_count": null,
     "metadata": {},
     "output_type": "execute_result"
    }
   ],
   "source": [
    "u_series[:, :, 0]"
   ]
  },
  {
   "cell_type": "code",
   "execution_count": null,
   "id": "french-jesus",
   "metadata": {},
   "outputs": [
    {
     "data": {
      "text/plain": [
       "array([[0.81492378+0.43523635j, 0.38110316-0.0320673j ],\n",
       "       [0.11566745-0.3645394j , 0.24396281+0.8910744j ]])"
      ]
     },
     "execution_count": null,
     "metadata": {},
     "output_type": "execute_result"
    }
   ],
   "source": [
    "u_series[:, :, -1]"
   ]
  },
  {
   "cell_type": "code",
   "execution_count": null,
   "id": "worthy-suicide",
   "metadata": {},
   "outputs": [
    {
     "data": {
      "text/plain": [
       "array([[-0.65729507-0.64935808j, -0.37449195-0.07780142j],\n",
       "       [-0.21471521+0.3165354j ,  0.01990742-0.92374586j]])"
      ]
     },
     "execution_count": null,
     "metadata": {},
     "output_type": "execute_result"
    }
   ],
   "source": [
    "-1j*identity_ham(3)@u0"
   ]
  },
  {
   "cell_type": "markdown",
   "id": "brief-variance",
   "metadata": {},
   "source": [
    "## Sigma xyz Hamiltonian"
   ]
  },
  {
   "cell_type": "markdown",
   "id": "rising-lemon",
   "metadata": {},
   "source": [
    "# Tests against mesolve of QuTiP"
   ]
  },
  {
   "cell_type": "code",
   "execution_count": null,
   "id": "statutory-shower",
   "metadata": {},
   "outputs": [],
   "source": [
    "#export\n",
    "H0 = rand_herm_ndarray((2, 2))\n",
    "H1 = rand_herm_ndarray((2, 2))\n",
    "\n",
    "def silly_ham(t):\n",
    "    sil_ham = sin(t)*H0 + cos(t)*H1\n",
    "    return sil_ham"
   ]
  },
  {
   "cell_type": "code",
   "execution_count": null,
   "id": "framed-istanbul",
   "metadata": {},
   "outputs": [
    {
     "data": {
      "text/plain": [
       "array([[-0.64513977+0.j       ,  0.15283538-0.0745928j],\n",
       "       [ 0.15283538+0.0745928j,  0.17921321+0.j       ]])"
      ]
     },
     "execution_count": null,
     "metadata": {},
     "output_type": "execute_result"
    }
   ],
   "source": [
    "silly_ham(2)"
   ]
  },
  {
   "cell_type": "code",
   "execution_count": null,
   "id": "handy-intensity",
   "metadata": {},
   "outputs": [],
   "source": [
    "#export\n",
    "# u0 = rand_unitary_ndarray((2,2))\n",
    "u0 = sigmax().full()\n",
    "evolution_time = 5\n",
    "no_time_step_for_eval = 100"
   ]
  },
  {
   "cell_type": "code",
   "execution_count": null,
   "id": "cooperative-narrative",
   "metadata": {},
   "outputs": [
    {
     "data": {
      "text/plain": [
       "array([[0.+0.j, 1.+0.j],\n",
       "       [1.+0.j, 0.+0.j]])"
      ]
     },
     "execution_count": null,
     "metadata": {},
     "output_type": "execute_result"
    }
   ],
   "source": [
    "u0"
   ]
  },
  {
   "cell_type": "markdown",
   "id": "large-philippines",
   "metadata": {},
   "source": [
    "u_series, result = ihu(ham_func, u0, T, no_time_step_for_eval,)"
   ]
  },
  {
   "cell_type": "code",
   "execution_count": null,
   "id": "adapted-insert",
   "metadata": {},
   "outputs": [
    {
     "name": "stdout",
     "output_type": "stream",
     "text": [
      "The solver successfully reached the end of the integration interval.\n"
     ]
    }
   ],
   "source": [
    "#export\n",
    "u_series, result = ihu(silly_ham, u0, evolution_time, \n",
    "                       no_time_step_for_eval,)"
   ]
  },
  {
   "cell_type": "code",
   "execution_count": null,
   "id": "instant-agenda",
   "metadata": {},
   "outputs": [
    {
     "data": {
      "text/plain": [
       "(2, 2, 100)"
      ]
     },
     "execution_count": null,
     "metadata": {},
     "output_type": "execute_result"
    }
   ],
   "source": [
    "u_series.shape"
   ]
  },
  {
   "cell_type": "code",
   "execution_count": null,
   "id": "willing-interview",
   "metadata": {},
   "outputs": [],
   "source": [
    "H = [[H0, 'sin(t)'], [H1, 'cos(t)']]"
   ]
  },
  {
   "cell_type": "code",
   "execution_count": null,
   "id": "accessible-progressive",
   "metadata": {},
   "outputs": [
    {
     "data": {
      "text/plain": [
       "[[array([[-0.70949257+0.j,  0.        +0.j],\n",
       "         [ 0.        +0.j,  0.51665014+0.j]]),\n",
       "  'sin(t)'],\n",
       " [array([[ 0.        +0.j        , -0.3672631 +0.17924636j],\n",
       "         [-0.3672631 -0.17924636j,  0.69825215+0.j        ]]),\n",
       "  'cos(t)']]"
      ]
     },
     "execution_count": null,
     "metadata": {},
     "output_type": "execute_result"
    }
   ],
   "source": [
    "H"
   ]
  },
  {
   "cell_type": "code",
   "execution_count": null,
   "id": "addressed-anatomy",
   "metadata": {},
   "outputs": [],
   "source": [
    "tlist = linspace(0, evolution_time, no_time_step_for_eval)"
   ]
  },
  {
   "cell_type": "markdown",
   "id": "different-going",
   "metadata": {},
   "source": [
    "mesolve(H, rho0, tlist, c_ops=None, e_ops=None, args=None, options=None,\n",
    "            progress_bar=None, _safe_mode=True)"
   ]
  },
  {
   "cell_type": "code",
   "execution_count": null,
   "id": "familiar-visiting",
   "metadata": {},
   "outputs": [
    {
     "ename": "TypeError",
     "evalue": "Incorrect Q_object specification",
     "output_type": "error",
     "traceback": [
      "\u001b[0;31m---------------------------------------------------------------------------\u001b[0m",
      "\u001b[0;31mTypeError\u001b[0m                                 Traceback (most recent call last)",
      "\u001b[0;32m<ipython-input-47-b1d07ec43702>\u001b[0m in \u001b[0;36m<module>\u001b[0;34m\u001b[0m\n\u001b[0;32m----> 1\u001b[0;31m \u001b[0mmeresult\u001b[0m \u001b[0;34m=\u001b[0m \u001b[0mmesolve\u001b[0m\u001b[0;34m(\u001b[0m\u001b[0mH\u001b[0m\u001b[0;34m,\u001b[0m \u001b[0msigmax\u001b[0m\u001b[0;34m(\u001b[0m\u001b[0;34m)\u001b[0m\u001b[0;34m,\u001b[0m \u001b[0mtlist\u001b[0m\u001b[0;34m,\u001b[0m \u001b[0mprogress_bar\u001b[0m\u001b[0;34m=\u001b[0m\u001b[0mTextProgressBar\u001b[0m\u001b[0;34m)\u001b[0m\u001b[0;34m\u001b[0m\u001b[0;34m\u001b[0m\u001b[0m\n\u001b[0m",
      "\u001b[0;32m~/anaconda3/envs/nbdev/lib/python3.8/site-packages/qutip/mesolve.py\u001b[0m in \u001b[0;36mmesolve\u001b[0;34m(H, rho0, tlist, c_ops, e_ops, args, options, progress_bar, _safe_mode)\u001b[0m\n\u001b[1;32m    252\u001b[0m         \u001b[0mss\u001b[0m \u001b[0;34m=\u001b[0m \u001b[0mH\u001b[0m\u001b[0;34m\u001b[0m\u001b[0;34m\u001b[0m\u001b[0m\n\u001b[1;32m    253\u001b[0m     \u001b[0;32melif\u001b[0m \u001b[0misinstance\u001b[0m\u001b[0;34m(\u001b[0m\u001b[0mH\u001b[0m\u001b[0;34m,\u001b[0m \u001b[0;34m(\u001b[0m\u001b[0mlist\u001b[0m\u001b[0;34m,\u001b[0m \u001b[0mQobj\u001b[0m\u001b[0;34m,\u001b[0m \u001b[0mQobjEvo\u001b[0m\u001b[0;34m)\u001b[0m\u001b[0;34m)\u001b[0m\u001b[0;34m:\u001b[0m\u001b[0;34m\u001b[0m\u001b[0;34m\u001b[0m\u001b[0m\n\u001b[0;32m--> 254\u001b[0;31m         \u001b[0mss\u001b[0m \u001b[0;34m=\u001b[0m \u001b[0m_mesolve_QobjEvo\u001b[0m\u001b[0;34m(\u001b[0m\u001b[0mH\u001b[0m\u001b[0;34m,\u001b[0m \u001b[0mc_ops\u001b[0m\u001b[0;34m,\u001b[0m \u001b[0mtlist\u001b[0m\u001b[0;34m,\u001b[0m \u001b[0margs\u001b[0m\u001b[0;34m,\u001b[0m \u001b[0moptions\u001b[0m\u001b[0;34m)\u001b[0m\u001b[0;34m\u001b[0m\u001b[0;34m\u001b[0m\u001b[0m\n\u001b[0m\u001b[1;32m    255\u001b[0m     \u001b[0;32melif\u001b[0m \u001b[0mcallable\u001b[0m\u001b[0;34m(\u001b[0m\u001b[0mH\u001b[0m\u001b[0;34m)\u001b[0m\u001b[0;34m:\u001b[0m\u001b[0;34m\u001b[0m\u001b[0;34m\u001b[0m\u001b[0m\n\u001b[1;32m    256\u001b[0m         \u001b[0mss\u001b[0m \u001b[0;34m=\u001b[0m \u001b[0m_mesolve_func_td\u001b[0m\u001b[0;34m(\u001b[0m\u001b[0mH\u001b[0m\u001b[0;34m,\u001b[0m \u001b[0mc_ops\u001b[0m\u001b[0;34m,\u001b[0m \u001b[0mrho0\u001b[0m\u001b[0;34m,\u001b[0m \u001b[0mtlist\u001b[0m\u001b[0;34m,\u001b[0m \u001b[0margs\u001b[0m\u001b[0;34m,\u001b[0m \u001b[0moptions\u001b[0m\u001b[0;34m)\u001b[0m\u001b[0;34m\u001b[0m\u001b[0;34m\u001b[0m\u001b[0m\n",
      "\u001b[0;32m~/anaconda3/envs/nbdev/lib/python3.8/site-packages/qutip/mesolve.py\u001b[0m in \u001b[0;36m_mesolve_QobjEvo\u001b[0;34m(H, c_ops, tlist, args, opt)\u001b[0m\n\u001b[1;32m    283\u001b[0m     \u001b[0mPrepare\u001b[0m \u001b[0mthe\u001b[0m \u001b[0msystem\u001b[0m \u001b[0;32mfor\u001b[0m \u001b[0mthe\u001b[0m \u001b[0msolver\u001b[0m\u001b[0;34m,\u001b[0m \u001b[0mH\u001b[0m \u001b[0mcan\u001b[0m \u001b[0mbe\u001b[0m \u001b[0man\u001b[0m \u001b[0mQobjEvo\u001b[0m\u001b[0;34m.\u001b[0m\u001b[0;34m\u001b[0m\u001b[0;34m\u001b[0m\u001b[0m\n\u001b[1;32m    284\u001b[0m     \"\"\"\n\u001b[0;32m--> 285\u001b[0;31m     \u001b[0mH_td\u001b[0m \u001b[0;34m=\u001b[0m \u001b[0mQobjEvo\u001b[0m\u001b[0;34m(\u001b[0m\u001b[0mH\u001b[0m\u001b[0;34m,\u001b[0m \u001b[0margs\u001b[0m\u001b[0;34m,\u001b[0m \u001b[0mtlist\u001b[0m\u001b[0;34m=\u001b[0m\u001b[0mtlist\u001b[0m\u001b[0;34m)\u001b[0m\u001b[0;34m\u001b[0m\u001b[0;34m\u001b[0m\u001b[0m\n\u001b[0m\u001b[1;32m    286\u001b[0m     \u001b[0;32mif\u001b[0m \u001b[0;32mnot\u001b[0m \u001b[0missuper\u001b[0m\u001b[0;34m(\u001b[0m\u001b[0mH_td\u001b[0m\u001b[0;34m.\u001b[0m\u001b[0mcte\u001b[0m\u001b[0;34m)\u001b[0m\u001b[0;34m:\u001b[0m\u001b[0;34m\u001b[0m\u001b[0;34m\u001b[0m\u001b[0m\n\u001b[1;32m    287\u001b[0m         \u001b[0mL_td\u001b[0m \u001b[0;34m=\u001b[0m \u001b[0mliouvillian\u001b[0m\u001b[0;34m(\u001b[0m\u001b[0mH_td\u001b[0m\u001b[0;34m)\u001b[0m\u001b[0;34m\u001b[0m\u001b[0;34m\u001b[0m\u001b[0m\n",
      "\u001b[0;32m~/anaconda3/envs/nbdev/lib/python3.8/site-packages/qutip/qobjevo.py\u001b[0m in \u001b[0;36m__init__\u001b[0;34m(self, Q_object, args, copy, tlist, state0, e_ops)\u001b[0m\n\u001b[1;32m    484\u001b[0m                 \u001b[0mQ_object\u001b[0m \u001b[0;34m=\u001b[0m \u001b[0;34m[\u001b[0m\u001b[0mQ_object\u001b[0m\u001b[0;34m]\u001b[0m\u001b[0;34m\u001b[0m\u001b[0;34m\u001b[0m\u001b[0m\n\u001b[1;32m    485\u001b[0m \u001b[0;34m\u001b[0m\u001b[0m\n\u001b[0;32m--> 486\u001b[0;31m         \u001b[0mop_type\u001b[0m \u001b[0;34m=\u001b[0m \u001b[0mself\u001b[0m\u001b[0;34m.\u001b[0m\u001b[0m_td_format_check_single\u001b[0m\u001b[0;34m(\u001b[0m\u001b[0mQ_object\u001b[0m\u001b[0;34m,\u001b[0m \u001b[0mtlist\u001b[0m\u001b[0;34m)\u001b[0m\u001b[0;34m\u001b[0m\u001b[0;34m\u001b[0m\u001b[0m\n\u001b[0m\u001b[1;32m    487\u001b[0m         \u001b[0mself\u001b[0m\u001b[0;34m.\u001b[0m\u001b[0mops\u001b[0m \u001b[0;34m=\u001b[0m \u001b[0;34m[\u001b[0m\u001b[0;34m]\u001b[0m\u001b[0;34m\u001b[0m\u001b[0;34m\u001b[0m\u001b[0m\n\u001b[1;32m    488\u001b[0m \u001b[0;34m\u001b[0m\u001b[0m\n",
      "\u001b[0;32m~/anaconda3/envs/nbdev/lib/python3.8/site-packages/qutip/qobjevo.py\u001b[0m in \u001b[0;36m_td_format_check_single\u001b[0;34m(self, Q_object, tlist)\u001b[0m\n\u001b[1;32m    581\u001b[0m                 \u001b[0;32melif\u001b[0m \u001b[0misinstance\u001b[0m\u001b[0;34m(\u001b[0m\u001b[0mop_k\u001b[0m\u001b[0;34m,\u001b[0m \u001b[0mlist\u001b[0m\u001b[0;34m)\u001b[0m\u001b[0;34m:\u001b[0m\u001b[0;34m\u001b[0m\u001b[0;34m\u001b[0m\u001b[0m\n\u001b[1;32m    582\u001b[0m                     \u001b[0;32mif\u001b[0m \u001b[0;32mnot\u001b[0m \u001b[0misinstance\u001b[0m\u001b[0;34m(\u001b[0m\u001b[0mop_k\u001b[0m\u001b[0;34m[\u001b[0m\u001b[0;36m0\u001b[0m\u001b[0;34m]\u001b[0m\u001b[0;34m,\u001b[0m \u001b[0mQobj\u001b[0m\u001b[0;34m)\u001b[0m\u001b[0;34m:\u001b[0m\u001b[0;34m\u001b[0m\u001b[0;34m\u001b[0m\u001b[0m\n\u001b[0;32m--> 583\u001b[0;31m                         \u001b[0;32mraise\u001b[0m \u001b[0mTypeError\u001b[0m\u001b[0;34m(\u001b[0m\u001b[0;34m\"Incorrect Q_object specification\"\u001b[0m\u001b[0;34m)\u001b[0m\u001b[0;34m\u001b[0m\u001b[0;34m\u001b[0m\u001b[0m\n\u001b[0m\u001b[1;32m    584\u001b[0m                     \u001b[0;32melif\u001b[0m \u001b[0mlen\u001b[0m\u001b[0;34m(\u001b[0m\u001b[0mop_k\u001b[0m\u001b[0;34m)\u001b[0m \u001b[0;34m==\u001b[0m \u001b[0;36m2\u001b[0m\u001b[0;34m:\u001b[0m\u001b[0;34m\u001b[0m\u001b[0;34m\u001b[0m\u001b[0m\n\u001b[1;32m    585\u001b[0m                         \u001b[0;32mif\u001b[0m \u001b[0misinstance\u001b[0m\u001b[0;34m(\u001b[0m\u001b[0mop_k\u001b[0m\u001b[0;34m[\u001b[0m\u001b[0;36m1\u001b[0m\u001b[0;34m]\u001b[0m\u001b[0;34m,\u001b[0m \u001b[0mCubic_Spline\u001b[0m\u001b[0;34m)\u001b[0m\u001b[0;34m:\u001b[0m\u001b[0;34m\u001b[0m\u001b[0;34m\u001b[0m\u001b[0m\n",
      "\u001b[0;31mTypeError\u001b[0m: Incorrect Q_object specification"
     ]
    }
   ],
   "source": [
    "meresult = mesolve(H, sigmax(), tlist, progress_bar=TextProgressBar)"
   ]
  },
  {
   "cell_type": "markdown",
   "id": "entitled-armstrong",
   "metadata": {},
   "source": [
    "# qutip "
   ]
  },
  {
   "cell_type": "code",
   "execution_count": null,
   "id": "solar-history",
   "metadata": {},
   "outputs": [],
   "source": [
    "#export\n",
    "H = 2*pi*0.1*sigmax()"
   ]
  },
  {
   "cell_type": "code",
   "execution_count": null,
   "id": "unavailable-zoning",
   "metadata": {},
   "outputs": [],
   "source": [
    "#export\n",
    "psi0 = basis(2, 0)"
   ]
  },
  {
   "cell_type": "code",
   "execution_count": null,
   "id": "handed-harmony",
   "metadata": {},
   "outputs": [],
   "source": [
    "#export\n",
    "times = linspace(0.0, 10, 20)"
   ]
  },
  {
   "cell_type": "code",
   "execution_count": null,
   "id": "close-intro",
   "metadata": {},
   "outputs": [],
   "source": [
    "#export\n",
    "mere_result = mesolve(H, psi0, times)"
   ]
  },
  {
   "cell_type": "code",
   "execution_count": null,
   "id": "explicit-estonia",
   "metadata": {},
   "outputs": [
    {
     "data": {
      "text/plain": [
       "20"
      ]
     },
     "execution_count": null,
     "metadata": {},
     "output_type": "execute_result"
    }
   ],
   "source": [
    "len(mere_result.states)"
   ]
  },
  {
   "cell_type": "code",
   "execution_count": null,
   "id": "useful-compilation",
   "metadata": {},
   "outputs": [],
   "source": [
    "#export\n",
    "def q_ham(t):\n",
    "    qutham = H.full()\n",
    "    return qutham"
   ]
  },
  {
   "cell_type": "code",
   "execution_count": null,
   "id": "durable-lemon",
   "metadata": {},
   "outputs": [
    {
     "data": {
      "text/plain": [
       "array([[0.        +0.j, 0.62831853+0.j],\n",
       "       [0.62831853+0.j, 0.        +0.j]])"
      ]
     },
     "execution_count": null,
     "metadata": {},
     "output_type": "execute_result"
    }
   ],
   "source": [
    "q_ham(2)"
   ]
  },
  {
   "cell_type": "code",
   "execution_count": null,
   "id": "minimal-organ",
   "metadata": {},
   "outputs": [],
   "source": [
    "#export\n",
    "u0 = identity(2, dtype=complex)\n",
    "evolution_time = 10\n",
    "no_time_step_for_eval = 20"
   ]
  },
  {
   "cell_type": "code",
   "execution_count": null,
   "id": "documented-identity",
   "metadata": {},
   "outputs": [
    {
     "data": {
      "text/plain": [
       "array([[1.+0.j, 0.+0.j],\n",
       "       [0.+0.j, 1.+0.j]])"
      ]
     },
     "execution_count": null,
     "metadata": {},
     "output_type": "execute_result"
    }
   ],
   "source": [
    "u0"
   ]
  },
  {
   "cell_type": "markdown",
   "id": "environmental-timber",
   "metadata": {},
   "source": [
    "u_series, result = ihu(ham_func, u0, T, no_time_step_for_eval,)"
   ]
  },
  {
   "cell_type": "code",
   "execution_count": null,
   "id": "adjusted-float",
   "metadata": {},
   "outputs": [
    {
     "name": "stdout",
     "output_type": "stream",
     "text": [
      "The solver successfully reached the end of the integration interval.\n"
     ]
    }
   ],
   "source": [
    "#export\n",
    "u_series, result = ihu(q_ham, u0, evolution_time, \n",
    "                       no_time_step_for_eval,)"
   ]
  },
  {
   "cell_type": "code",
   "execution_count": null,
   "id": "affiliated-brunswick",
   "metadata": {},
   "outputs": [
    {
     "data": {
      "text/plain": [
       "(2, 2, 20)"
      ]
     },
     "execution_count": null,
     "metadata": {},
     "output_type": "execute_result"
    }
   ],
   "source": [
    "u_series.shape"
   ]
  },
  {
   "cell_type": "code",
   "execution_count": null,
   "id": "lovely-prime",
   "metadata": {},
   "outputs": [
    {
     "data": {
      "text/plain": [
       "array([1.+0.j, 0.+0.j])"
      ]
     },
     "execution_count": null,
     "metadata": {},
     "output_type": "execute_result"
    }
   ],
   "source": [
    "psi0_ndarray = psi0.full().ravel()\n",
    "psi0_ndarray"
   ]
  },
  {
   "cell_type": "code",
   "execution_count": null,
   "id": "metric-brunswick",
   "metadata": {},
   "outputs": [
    {
     "data": {
      "text/plain": [
       "(2,)"
      ]
     },
     "execution_count": null,
     "metadata": {},
     "output_type": "execute_result"
    }
   ],
   "source": [
    "psi0_ndarray.shape"
   ]
  },
  {
   "cell_type": "code",
   "execution_count": null,
   "id": "bacterial-nebraska",
   "metadata": {},
   "outputs": [],
   "source": [
    "upsi = empty((2, u_series.shape[-1]), dtype=complex)\n",
    "for i in range(u_series.shape[-1]):\n",
    "    upsi[:, i] = u_series[:, :, i]@psi0_ndarray\n",
    "    "
   ]
  },
  {
   "cell_type": "code",
   "execution_count": null,
   "id": "metallic-stack",
   "metadata": {},
   "outputs": [
    {
     "data": {
      "text/plain": [
       "array([1.+0.j, 0.+0.j])"
      ]
     },
     "execution_count": null,
     "metadata": {},
     "output_type": "execute_result"
    }
   ],
   "source": [
    "upsi[:, 0]"
   ]
  },
  {
   "cell_type": "code",
   "execution_count": null,
   "id": "abroad-litigation",
   "metadata": {},
   "outputs": [
    {
     "data": {
      "text/latex": [
       "Quantum object: dims = [[2], [1]], shape = (2, 1), type = ket\\begin{equation*}\\left(\\begin{array}{*{11}c}1.0\\\\0.0\\\\\\end{array}\\right)\\end{equation*}"
      ],
      "text/plain": [
       "Quantum object: dims = [[2], [1]], shape = (2, 1), type = ket\n",
       "Qobj data =\n",
       "[[1.]\n",
       " [0.]]"
      ]
     },
     "execution_count": null,
     "metadata": {},
     "output_type": "execute_result"
    }
   ],
   "source": [
    "mere_result.states[0]"
   ]
  },
  {
   "cell_type": "code",
   "execution_count": null,
   "id": "above-champagne",
   "metadata": {},
   "outputs": [],
   "source": [
    "assert_allclose(upsi[:, 0], mere_result.states[0].full().ravel()) "
   ]
  },
  {
   "cell_type": "code",
   "execution_count": null,
   "id": "swiss-disposal",
   "metadata": {},
   "outputs": [],
   "source": [
    "for i in range(u_series.shape[-1]):\n",
    "    assert_allclose(upsi[:, i], mere_result.states[i].full().ravel(),\n",
    "                   rtol=1e-02, atol=1e-02) "
   ]
  },
  {
   "cell_type": "code",
   "execution_count": null,
   "id": "diverse-algeria",
   "metadata": {},
   "outputs": [],
   "source": [
    "for i in range(u_series.shape[-1]):\n",
    "    assert_allclose(upsi[:, i], mere_result.states[i].full().ravel(),\n",
    "                   rtol=1e-07, atol=1e-02) "
   ]
  },
  {
   "cell_type": "code",
   "execution_count": null,
   "id": "separated-adult",
   "metadata": {},
   "outputs": [],
   "source": [
    "for i in range(u_series.shape[-1]):\n",
    "    assert_allclose(upsi[:, i], mere_result.states[i].full().ravel(),\n",
    "                   rtol=1e-07, atol=1e-02) "
   ]
  },
  {
   "cell_type": "markdown",
   "id": "imported-future",
   "metadata": {},
   "source": [
    "---------------------------------------------------------------------------\n",
    "AssertionError                            Traceback (most recent call last)\n",
    "<ipython-input-101-486ddf98e48b> in <module>\n",
    "      1 for i in range(u_series.shape[-1]):\n",
    "----> 2     assert_allclose(upsi[:, i], mere_result.states[i].full().ravel(),\n",
    "      3                    rtol=1e-02, atol=1e-03) \n",
    "\n",
    "    [... skipping hidden 1 frame]\n",
    "\n",
    "~/anaconda3/envs/nbdev/lib/python3.8/site-packages/numpy/testing/_private/utils.py in assert_array_compare(comparison, x, y, err_msg, verbose, header, precision, equal_nan, equal_inf)\n",
    "    838                                 verbose=verbose, header=header,\n",
    "    839                                 names=('x', 'y'), precision=precision)\n",
    "--> 840             raise AssertionError(msg)\n",
    "    841     except ValueError:\n",
    "    842         import traceback\n",
    "\n",
    "AssertionError: \n",
    "Not equal to tolerance rtol=0.01, atol=0.001\n",
    "\n",
    "Mismatched elements: 1 / 2 (50%)\n",
    "Max absolute difference: 0.00150303\n",
    "Max relative difference: 1084.59125754\n",
    " x: array([0.999917+0.j      , 0.      -0.001502j])\n",
    " y: array([1.+0.0000e+00j, 0.+1.3858e-06j])"
   ]
  },
  {
   "cell_type": "markdown",
   "id": "essential-garlic",
   "metadata": {},
   "source": [
    "Fails for atol < 1e-02"
   ]
  },
  {
   "cell_type": "code",
   "execution_count": null,
   "id": "verified-plane",
   "metadata": {},
   "outputs": [
    {
     "name": "stdout",
     "output_type": "stream",
     "text": [
      "Converted 00_core.ipynb.\n",
      "Converted 01_reshape.ipynb.\n",
      "Converted 02_herm.ipynb.\n",
      "Converted 03_unitary.ipynb.\n",
      "Converted 04_tests.ipynb.\n",
      "Converted index.ipynb.\n"
     ]
    }
   ],
   "source": [
    "notebook2script()"
   ]
  },
  {
   "cell_type": "code",
   "execution_count": null,
   "id": "suspected-republic",
   "metadata": {},
   "outputs": [],
   "source": []
  }
 ],
 "metadata": {
  "kernelspec": {
   "display_name": "Python 3",
   "language": "python",
   "name": "python3"
  }
 },
 "nbformat": 4,
 "nbformat_minor": 5
}
